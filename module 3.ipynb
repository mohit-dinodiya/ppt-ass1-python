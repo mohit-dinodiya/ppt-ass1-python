{
 "cells": [
  {
   "cell_type": "markdown",
   "id": "98d8b548-821a-4dd3-9620-7e1eecc3aaef",
   "metadata": {},
   "source": [
    "# 1. Scenario: A company wants to analyze the sales performance of its products in different regions. They have collected the following data:\n",
    " #  Region A: [10, 15, 12, 8, 14]\n",
    "  # Region B: [18, 20, 16, 22, 25]\n",
    "  # Calculate the mean sales for each region.\n"
   ]
  },
  {
   "cell_type": "markdown",
   "id": "2b9f9393-59f2-4c23-b1f9-70b3f390d826",
   "metadata": {},
   "source": [
    "\n",
    "To calculate the mean sales for each region, you need to find the average of the sales data for each region. Here's how you can do it:\n",
    "\n",
    "For Region A:\n",
    "Sales data: [10, 15, 12, 8, 14]\n",
    "Mean sales = (10 + 15 + 12 + 8 + 14) / 5\n",
    "= 59 / 5\n",
    "= 11.8\n",
    "\n",
    "Therefore, the mean sales for Region A is 11.8.\n",
    "\n",
    "For Region B:\n",
    "Sales data: [18, 20, 16, 22, 25]\n",
    "Mean sales = (18 + 20 + 16 + 22 + 25) / 5\n",
    "= 101 / 5\n",
    "= 20.2\n",
    "\n",
    "Therefore, the mean sales for Region B is 20.2.\n",
    "\n",
    "Hence, the mean sales for Region A is 11.8, and for Region B is 20.2."
   ]
  },
  {
   "cell_type": "markdown",
   "id": "42c7c36c-80d9-47d7-8c4a-a29f7e35174b",
   "metadata": {},
   "source": [
    "# 2. Scenario: A survey is conducted to measure customer satisfaction on a scale of 1 to 5. The data collected is as follows:\n",
    "#   [4, 5, 2, 3, 5, 4, 3, 2, 4, 5]\n",
    " #  Calculate the mode of the survey responses.\n"
   ]
  },
  {
   "cell_type": "markdown",
   "id": "40aacde4-6019-437b-82ba-49ed539a84b5",
   "metadata": {},
   "source": [
    "To calculate the mode of the survey responses, you need to find the value that appears most frequently in the dataset. Here's how you can do it:\n",
    "\n",
    "Survey responses: [4, 5, 2, 3, 5, 4, 3, 2, 4, 5]\n",
    "\n",
    "To determine the mode, you can count the frequency of each value:\n",
    "\n",
    "The value 4 appears 3 times.\n",
    "The value 5 appears 3 times.\n",
    "The value 2 appears 2 times.\n",
    "The value 3 appears 2 times.\n",
    "Both 4 and 5 appear the most frequently in the dataset, with a frequency of 3. Therefore, the mode of the survey responses is 4 and 5.\n",
    "\n",
    "It's important to note that a dataset can have multiple modes if there are multiple values with the same highest frequency. In this case, the dataset has two modes, which are 4 and 5."
   ]
  },
  {
   "cell_type": "markdown",
   "id": "b3d9add2-8d9e-48b6-8ad2-3f846ce848a3",
   "metadata": {},
   "source": [
    "# 3. Scenario: A company wants to compare the salaries of two departments. The salary data for Department A and Department B are as follows:\n",
    " #  Department A: [5000, 6000, 5500, 7000]\n",
    " #  Department B: [4500, 5500, 5800, 6000, 5200]\n",
    " #  Calculate the median salary for each department.\n"
   ]
  },
  {
   "cell_type": "markdown",
   "id": "51510dfc-a2e6-441f-a114-170164553bb8",
   "metadata": {},
   "source": [
    "To calculate the median salary for each department, you need to arrange the salary data in ascending order and find the middle value. If there is an even number of values, you take the average of the two middle values. Here's how you can do it:\n",
    "\n",
    "For Department A:\n",
    "Salary data: [5000, 6000, 5500, 7000]\n",
    "Arranging in ascending order: [5000, 5500, 6000, 7000]\n",
    "\n",
    "Since the number of values is odd, the median is the middle value, which is 5500.\n",
    "\n",
    "Therefore, the median salary for Department A is 5500.\n",
    "\n",
    "For Department B:\n",
    "Salary data: [4500, 5500, 5800, 6000, 5200]\n",
    "Arranging in ascending order: [4500, 5200, 5500, 5800, 6000]\n",
    "\n",
    "Since the number of values is odd, the median is the middle value, which is 5500.\n",
    "\n",
    "Therefore, the median salary for Department B is 5500.\n",
    "\n",
    "Hence, the median salary for Department A is 5500, and for Department B is also 5500."
   ]
  },
  {
   "cell_type": "markdown",
   "id": "36de5ac1-80d1-466b-9aa6-99b7deb47ab7",
   "metadata": {},
   "source": [
    "# 4. Scenario: A data analyst wants to determine the variability in the daily stock prices of a company. The data collected is as follows:\n",
    "   [25.5, 24.8, 26.1, 25.3, 24.9]\n",
    "  # Calculate the range of the stock prices.\n"
   ]
  },
  {
   "cell_type": "markdown",
   "id": "3242b1c3-6a3f-4a0f-88f3-5a8f1414f36f",
   "metadata": {},
   "source": [
    "To calculate the range of the stock prices, you need to find the difference between the highest and lowest values in the dataset. Here's how you can do it:\n",
    "\n",
    "Stock prices: [25.5, 24.8, 26.1, 25.3, 24.9]\n",
    "\n",
    "To determine the range, you need to find the highest and lowest values:\n",
    "\n",
    "Highest value: 26.1\n",
    "Lowest value: 24.8\n",
    "\n",
    "Range = Highest value - Lowest value\n",
    "= 26.1 - 24.8\n",
    "= 1.3\n",
    "\n",
    "Therefore, the range of the stock prices is 1.3."
   ]
  },
  {
   "cell_type": "markdown",
   "id": "f3ffa704-0652-467d-a857-8675208d5db5",
   "metadata": {},
   "source": [
    "# 5. Scenario: A study is conducted to compare the performance of two different teaching methods. The test scores of the students in each group are as follows:\n",
    "  # Group A: [85, 90, 92, 88, 91]\n",
    " #  Group B: [82, 88, 90, 86, 87]\n",
    "  # Perform a t-test to determine if there is a significant difference in the mean scores between the two groups.\n"
   ]
  },
  {
   "cell_type": "markdown",
   "id": "d1ce4e20-05b9-4102-b99f-526ce757dd2a",
   "metadata": {},
   "source": [
    "\n",
    "To perform a t-test and determine if there is a significant difference in the mean scores between the two groups, you can use the independent samples t-test. The independent samples t-test compares the means of two independent groups to assess if they are significantly different from each other. Here's how you can perform the t-test:\n",
    "\n",
    "Group A scores: [85, 90, 92, 88, 91]\n",
    "Group B scores: [82, 88, 90, 86, 87]\n",
    "\n",
    "Step 1: Calculate the means of both groups.\n",
    "Mean of Group A (x̄A) = (85 + 90 + 92 + 88 + 91) / 5 = 88.4\n",
    "Mean of Group B (x̄B) = (82 + 88 + 90 + 86 + 87) / 5 = 86.6\n",
    "\n",
    "Step 2: Calculate the standard deviations of both groups.\n",
    "Standard deviation of Group A (sA) = √[(∑(xi - x̄A)²) / (nA - 1)]\n",
    "= √[((85-88.4)² + (90-88.4)² + (92-88.4)² + (88-88.4)² + (91-88.4)²) / (5-1)]\n",
    "= √[(9.36 + 1.44 + 12.96 + 0.16 + 5.76) / 4]\n",
    "= √[(29.68) / 4]\n",
    "= √7.42\n",
    "≈ 2.72\n",
    "\n",
    "Standard deviation of Group B (sB) = √[(∑(xi - x̄B)²) / (nB - 1)]\n",
    "= √[((82-86.6)² + (88-86.6)² + (90-86.6)² + (86-86.6)² + (87-86.6)²) / (5-1)]\n",
    "= √[(16.96 + 1.44 + 6.76 + 0.16 + 0.16) / 4]\n",
    "= √[(25.48) / 4]\n",
    "= √6.37\n",
    "≈ 2.52\n",
    "\n",
    "Step 3: Calculate the t-statistic.\n",
    "t = (x̄A - x̄B) / √((sA² / nA) + (sB² / nB))\n",
    "= (88.4 - 86.6) / √((2.72² / 5) + (2.52² / 5))\n",
    "= 1.8 / √((7.3984 / 5) + (6.3504 / 5))\n",
    "= 1.8 / √(1.48 + 1.27)\n",
    "= 1.8 / √2.75\n",
    "= 1.8 / 1.66\n",
    "≈ 1.08\n",
    "\n",
    "Step 4: Determine the degrees of freedom (df).\n",
    "Degrees of freedom (df) = nA + nB - 2 = 5 + 5 - 2 = 8\n",
    "\n",
    "Step 5: Determine the critical value for the desired significance level (α).\n",
    "You need to choose a significance level (α) to determine the critical value. Let's assume α = 0.05 (5% significance level).\n",
    "\n",
    "For a two-tailed t-test with df = 8 and α = 0.05, the critical value is approximately ±2.306.\n",
    "\n",
    "Step 6: Compare the t-statistic with the critical value.\n",
    "Since |t| (absolute value of t) = |1.08| < 2.306, the t-statistic falls within the range of non-significance.\n",
    "\n",
    "Conclusion: Based on the t-test, there is not a significant difference in the mean scores between Group A and Group B at the 5% significance level.\n",
    "\n",
    "It's important to note that the t-test assumes certain conditions, such as normality and homogeneity of variances. If these assumptions are not met, alternative tests or further analysis may be required."
   ]
  },
  {
   "cell_type": "markdown",
   "id": "d9c6e685-9ec7-48e7-b943-1c63a2b541ca",
   "metadata": {},
   "source": [
    "# 6. Scenario: A company wants to analyze the relationship between advertising expenditure and sales. The data collected is as follows:\n",
    " #  Advertising Expenditure (in thousands): [10, 15, 12, 8, 14]\n",
    " #  Sales (in thousands): [25, 30, 28, 20, 26]\n",
    "  # Calculate the correlation coefficient between advertising expenditure and sales.\n"
   ]
  },
  {
   "cell_type": "markdown",
   "id": "c4f3efbf-2db4-4a6b-ac9e-6fad732a3e66",
   "metadata": {},
   "source": [
    "\n",
    "To calculate the correlation coefficient between advertising expenditure and sales, you can use the Pearson correlation coefficient formula. The Pearson correlation coefficient measures the strength and direction of the linear relationship between two variables. Here's how you can calculate it:\n",
    "\n",
    "Advertising Expenditure (in thousands): [10, 15, 12, 8, 14]\n",
    "Sales (in thousands): [25, 30, 28, 20, 26]\n",
    "\n",
    "Step 1: Calculate the means of both variables.\n",
    "Mean of Advertising Expenditure (x̄) = (10 + 15 + 12 + 8 + 14) / 5 = 11.8\n",
    "Mean of Sales (ȳ) = (25 + 30 + 28 + 20 + 26) / 5 = 25.8\n",
    "\n",
    "Step 2: Calculate the deviations from the mean for both variables.\n",
    "Deviation from the mean for Advertising Expenditure (xi - x̄):\n",
    "[10 - 11.8, 15 - 11.8, 12 - 11.8, 8 - 11.8, 14 - 11.8] = [-1.8, 3.2, 0.2, -3.8, 2.2]\n",
    "\n",
    "Deviation from the mean for Sales (yi - ȳ):\n",
    "[25 - 25.8, 30 - 25.8, 28 - 25.8, 20 - 25.8, 26 - 25.8] = [-0.8, 4.2, 2.2, -5.8, 0.2]\n",
    "\n",
    "Step 3: Calculate the product of the deviations for each pair of observations.\n",
    "Product of deviations: [(-1.8) * (-0.8), 3.2 * 4.2, 0.2 * 2.2, (-3.8) * (-5.8), 2.2 * 0.2]\n",
    "= [1.44, 13.44, 0.44, 22.04, 0.44]\n",
    "\n",
    "Step 4: Calculate the sum of the product of deviations.\n",
    "Sum of product of deviations = 1.44 + 13.44 + 0.44 + 22.04 + 0.44 = 37.8\n",
    "\n",
    "Step 5: Calculate the standard deviation for each variable.\n",
    "Standard deviation of Advertising Expenditure (σx):\n",
    "√[(∑(xi - x̄)²) / (n - 1)]\n",
    "= √[( (-1.8)² + 3.2² + 0.2² + (-3.8)² + 2.2² ) / (5 - 1)]\n",
    "= √[(3.24 + 10.24 + 0.04 + 14.44 + 4.84) / 4]\n",
    "= √[(32.8) / 4]\n",
    "= √8.2\n",
    "≈ 2.87\n",
    "\n",
    "Standard deviation of Sales (σy):\n",
    "√[(∑(yi - ȳ)²) / (n - 1)]\n",
    "= √[( (-0.8)² + 4.2² + 2.2² + (-5.8)² + 0.2² ) / (5 - 1)]\n",
    "= √[(0.64 + 17.64 + 4.84 + 33.64 + 0.04) / 4]\n",
    "= √[(57.8) / 4]\n",
    "= √14.45\n",
    "≈ 3.8\n",
    "\n",
    "Step 6: Calculate the correlation coefficient (r).\n",
    "r = (Σ(xi - x̄)(yi - ȳ)) / (√(Σ(xi - x̄)²) * √(Σ(yi - ȳ)²))\n",
    "= 37.8 / (2.87 * 3.8)\n",
    "≈ 3.3\n",
    "\n",
    "Therefore, the correlation coefficient between advertising expenditure and sales is approximately 0.33.\n",
    "\n",
    "The correlation coefficient ranges from -1 to 1, where -1 indicates a strong negative correlation, 1 indicates a strong positive correlation, and 0 indicates no correlation. In this case, the correlation coefficient of approximately 0.33 suggests a weak positive correlation between advertising expenditure and sales"
   ]
  },
  {
   "cell_type": "markdown",
   "id": "edf64cef-a976-47e1-a306-c18436b82691",
   "metadata": {},
   "source": [
    "# 7. Scenario: A survey is conducted to measure the heights of a group of people. The data collected is as follows:\n",
    "   [160, 170, 165, 155, 175, 180, 170]\n",
    "   Calculate the standard deviation of the heights.\n"
   ]
  },
  {
   "cell_type": "code",
   "execution_count": 1,
   "id": "081c74cd-5cb6-4b16-afcf-ea58e0a4d7ab",
   "metadata": {},
   "outputs": [
    {
     "name": "stdout",
     "output_type": "stream",
     "text": [
      "Standard Deviation of Heights: 8.591246929842246\n"
     ]
    }
   ],
   "source": [
    "import statistics\n",
    "\n",
    "heights = [160, 170, 165, 155, 175, 180, 170]\n",
    "\n",
    "# Calculate the standard deviation\n",
    "std_dev = statistics.stdev(heights)\n",
    "\n",
    "print(\"Standard Deviation of Heights:\", std_dev)\n"
   ]
  },
  {
   "cell_type": "markdown",
   "id": "90d33975-3eeb-4357-be11-5493954b3e7c",
   "metadata": {},
   "source": [
    "# 8. Scenario: A company wants to analyze the relationship between employee tenure and job satisfaction. The data collected is as follows:\n",
    "#   Employee Tenure (in years): [2, 3, 5, 4, 6, 2, 4]\n",
    "#   Job Satisfaction (on a scale of 1 to 10): [7, 8, 6, 9, 5, 7, 6]\n",
    "#   Perform a linear regression analysis to predict job satisfaction based on employee tenure.\n"
   ]
  },
  {
   "cell_type": "code",
   "execution_count": 2,
   "id": "0de4019b-e569-4cc6-a743-aca652b5cfef",
   "metadata": {},
   "outputs": [
    {
     "name": "stdout",
     "output_type": "stream",
     "text": [
      "                            OLS Regression Results                            \n",
      "==============================================================================\n",
      "Dep. Variable:                      y   R-squared:                       0.271\n",
      "Model:                            OLS   Adj. R-squared:                  0.125\n",
      "Method:                 Least Squares   F-statistic:                     1.859\n",
      "Date:                Sat, 15 Jul 2023   Prob (F-statistic):              0.231\n",
      "Time:                        13:15:11   Log-Likelihood:                -10.362\n",
      "No. Observations:                   7   AIC:                             24.72\n",
      "Df Residuals:                       5   BIC:                             24.62\n",
      "Df Model:                           1                                         \n",
      "Covariance Type:            nonrobust                                         \n",
      "==============================================================================\n",
      "                 coef    std err          t      P>|t|      [0.025      0.975]\n",
      "------------------------------------------------------------------------------\n",
      "const          8.5957      1.361      6.316      0.001       5.097      12.094\n",
      "x1            -0.4681      0.343     -1.363      0.231      -1.351       0.414\n",
      "==============================================================================\n",
      "Omnibus:                          nan   Durbin-Watson:                   2.414\n",
      "Prob(Omnibus):                    nan   Jarque-Bera (JB):                1.954\n",
      "Skew:                           1.292   Prob(JB):                        0.376\n",
      "Kurtosis:                       3.166   Cond. No.                         12.0\n",
      "==============================================================================\n",
      "\n",
      "Notes:\n",
      "[1] Standard Errors assume that the covariance matrix of the errors is correctly specified.\n"
     ]
    },
    {
     "name": "stderr",
     "output_type": "stream",
     "text": [
      "/opt/conda/lib/python3.10/site-packages/statsmodels/stats/stattools.py:74: ValueWarning: omni_normtest is not valid with less than 8 observations; 7 samples were given.\n",
      "  warn(\"omni_normtest is not valid with less than 8 observations; %i \"\n"
     ]
    }
   ],
   "source": [
    "import numpy as np\n",
    "import statsmodels.api as sm\n",
    "\n",
    "# Data\n",
    "tenure = [2, 3, 5, 4, 6, 2, 4]\n",
    "satisfaction = [7, 8, 6, 9, 5, 7, 6]\n",
    "\n",
    "# Add a constant term for the intercept\n",
    "tenure_with_constant = sm.add_constant(tenure)\n",
    "\n",
    "# Fit the linear regression model\n",
    "model = sm.OLS(satisfaction, tenure_with_constant)\n",
    "results = model.fit()\n",
    "\n",
    "# Print the regression results\n",
    "print(results.summary())\n"
   ]
  },
  {
   "cell_type": "markdown",
   "id": "eb8db4c9-4b29-466e-a83a-014683a2a645",
   "metadata": {},
   "source": [
    "# 9. Scenario: A study is conducted to compare the effectiveness of two different medications. The recovery times of the patients in each group are as follows:\n",
    "#   Medication A: [10, 12, 14, 11, 13]\n",
    "#   Medication B: [15, 17, 16, 14, 18]\n",
    "#   Perform an analysis of variance (ANOVA) to determine if there is a significant difference in the mean recovery times between the two medications.\n"
   ]
  },
  {
   "cell_type": "code",
   "execution_count": 3,
   "id": "b0425883-0329-4411-bf07-eaaeed2922ee",
   "metadata": {},
   "outputs": [
    {
     "name": "stdout",
     "output_type": "stream",
     "text": [
      "F-value: 16.0\n",
      "p-value: 0.003949772803445326\n"
     ]
    }
   ],
   "source": [
    "import scipy.stats as stats\n",
    "\n",
    "# Recovery times\n",
    "medication_a = [10, 12, 14, 11, 13]\n",
    "medication_b = [15, 17, 16, 14, 18]\n",
    "\n",
    "# Perform one-way ANOVA\n",
    "f_value, p_value = stats.f_oneway(medication_a, medication_b)\n",
    "\n",
    "# Print the ANOVA results\n",
    "print(\"F-value:\", f_value)\n",
    "print(\"p-value:\", p_value)\n"
   ]
  },
  {
   "cell_type": "markdown",
   "id": "f170fcdb-9780-45d1-8469-37014aece8f3",
   "metadata": {},
   "source": [
    "# 10. Scenario: A company wants to analyze customer feedback ratings on a scale of 1 to 10. The data collected is\n",
    "\n",
    "# as follows:\n",
    "#    [8, 9, 7, 6, 8, 10, 9, 8, 7, 8]\n",
    "#    Calculate the 75th percentile of the feedback ratings.\n"
   ]
  },
  {
   "cell_type": "markdown",
   "id": "f54cc19d-c7a6-485c-a1ba-737f3ac519db",
   "metadata": {},
   "source": [
    "To calculate the 75th percentile of the feedback ratings, you need to arrange the ratings in ascending order and find the value below which 75% of the data falls. Here's how you can do it:\n",
    "\n",
    "Feedback ratings: [8, 9, 7, 6, 8, 10, 9, 8, 7, 8]\n",
    "\n",
    "Step 1: Arrange the ratings in ascending order:\n",
    "[6, 7, 7, 8, 8, 8, 8, 9, 9, 10]\n",
    "\n",
    "Step 2: Calculate the index of the 75th percentile:\n",
    "Index = (75 / 100) * (n - 1) + 1\n",
    "= (0.75) * (10 - 1) + 1\n",
    "= (0.75) * 9 + 1\n",
    "= 6.75 + 1\n",
    "= 7.75\n",
    "\n",
    "Step 3: Identify the value at the 75th percentile index:\n",
    "The 75th percentile index is between the 7th and 8th values in the sorted data: 8 and 9.\n",
    "To find the value at the 75th percentile, you can take the average of these two values:\n",
    "Value = (8 + 9) / 2\n",
    "= 17 / 2\n",
    "= 8.5\n",
    "\n",
    "Therefore, the 75th percentile of the feedback ratings is 8.5.\n",
    "\n",
    "Note: If the index calculated in Step 2 is not an integer, you can interpolate between the values at the indices below and above the calculated index to estimate the percentile value. In this case, the index was 7.75, so we averaged the values at the 7th and 8th indices to find the 75th percentile value."
   ]
  },
  {
   "cell_type": "markdown",
   "id": "719cf555-3cbe-4a21-80fb-33b0db19c0d9",
   "metadata": {},
   "source": [
    "# 11. Scenario: A quality control department wants to test the weight consistency of a product. The weights of a sample of products are as follows:\n",
    "    [10.2, 9.8, 10.0, 10.5, 10.3, 10.1]\n",
    "    Perform a hypothesis test to determine if the mean weight differs significantly from 10 grams.\n"
   ]
  },
  {
   "cell_type": "code",
   "execution_count": 4,
   "id": "8f24357f-d057-4684-84f7-64f95705a508",
   "metadata": {},
   "outputs": [
    {
     "name": "stdout",
     "output_type": "stream",
     "text": [
      "T-statistic: 1.5126584522688367\n",
      "p-value: 0.19077595151110102\n"
     ]
    }
   ],
   "source": [
    "import scipy.stats as stats\n",
    "\n",
    "# Weight data\n",
    "weights = [10.2, 9.8, 10.0, 10.5, 10.3, 10.1]\n",
    "\n",
    "# Perform one-sample t-test\n",
    "t_statistic, p_value = stats.ttest_1samp(weights, 10)\n",
    "\n",
    "# Print the t-test results\n",
    "print(\"T-statistic:\", t_statistic)\n",
    "print(\"p-value:\", p_value)\n"
   ]
  },
  {
   "cell_type": "markdown",
   "id": "5b5a23b6-cdaa-4b18-8584-34e7523876db",
   "metadata": {},
   "source": [
    "# 12. Scenario: A company wants to analyze the click-through rates of two different website designs. The number of clicks for each design is as follows:\n",
    "#    Design A: [100, 120, 110, 90, 95]\n",
    "#    Design B: [80, 85, 90, 95, 100]\n",
    "#    Perform a chi-square test to determine if there is a significant difference in the click-through rates between the two designs.\n"
   ]
  },
  {
   "cell_type": "code",
   "execution_count": 5,
   "id": "dadc690a-7163-402a-92d9-90687bb9c642",
   "metadata": {},
   "outputs": [
    {
     "ename": "ValueError",
     "evalue": "not enough values to unpack (expected 4, got 2)",
     "output_type": "error",
     "traceback": [
      "\u001b[0;31m---------------------------------------------------------------------------\u001b[0m",
      "\u001b[0;31mValueError\u001b[0m                                Traceback (most recent call last)",
      "Cell \u001b[0;32mIn[5], line 12\u001b[0m\n\u001b[1;32m      9\u001b[0m observed \u001b[38;5;241m=\u001b[39m np\u001b[38;5;241m.\u001b[39marray([design_a, design_b])\n\u001b[1;32m     11\u001b[0m \u001b[38;5;66;03m# Perform chi-square test\u001b[39;00m\n\u001b[0;32m---> 12\u001b[0m chi2_stat, p_value, dof, expected \u001b[38;5;241m=\u001b[39m stats\u001b[38;5;241m.\u001b[39mchisquare(observed)\n\u001b[1;32m     14\u001b[0m \u001b[38;5;66;03m# Print the chi-square test results\u001b[39;00m\n\u001b[1;32m     15\u001b[0m \u001b[38;5;28mprint\u001b[39m(\u001b[38;5;124m\"\u001b[39m\u001b[38;5;124mChi-square statistic:\u001b[39m\u001b[38;5;124m\"\u001b[39m, chi2_stat)\n",
      "\u001b[0;31mValueError\u001b[0m: not enough values to unpack (expected 4, got 2)"
     ]
    }
   ],
   "source": [
    "import numpy as np\n",
    "import scipy.stats as stats\n",
    "\n",
    "# Click-through rates\n",
    "design_a = [100, 120, 110, 90, 95]\n",
    "design_b = [80, 85, 90, 95, 100]\n",
    "\n",
    "# Create a contingency table\n",
    "observed = np.array([design_a, design_b])\n",
    "\n",
    "# Perform chi-square test\n",
    "chi2_stat, p_value, dof, expected = stats.chisquare(observed)\n",
    "\n",
    "# Print the chi-square test results\n",
    "print(\"Chi-square statistic:\", chi2_stat)\n",
    "print(\"p-value:\", p_value)\n"
   ]
  },
  {
   "cell_type": "markdown",
   "id": "5fc481f6-9a1a-4f11-ae20-859257b3fc12",
   "metadata": {},
   "source": [
    "# 13. Scenario: A survey is conducted to measure customer satisfaction with a product on a scale of 1 to 10. The data collected is as follows:\n",
    "#    [7, 9, 6, 8, 10, 7, 8, 9, 7, 8]\n",
    "#    Calculate the 95% confidence interval for the population mean satisfaction score.\n"
   ]
  },
  {
   "cell_type": "code",
   "execution_count": 6,
   "id": "77191856-d6f1-40a6-952d-6f5b3861dcdd",
   "metadata": {},
   "outputs": [
    {
     "name": "stdout",
     "output_type": "stream",
     "text": [
      "95% Confidence Interval: (7.043561120599888, 8.756438879400113)\n"
     ]
    }
   ],
   "source": [
    "import numpy as np\n",
    "import scipy.stats as stats\n",
    "\n",
    "# Data\n",
    "satisfaction_scores = [7, 9, 6, 8, 10, 7, 8, 9, 7, 8]\n",
    "\n",
    "# Calculate the mean and standard deviation\n",
    "mean = np.mean(satisfaction_scores)\n",
    "std_dev = np.std(satisfaction_scores, ddof=1)  # Set ddof=1 for sample standard deviation\n",
    "\n",
    "# Calculate the standard error\n",
    "std_error = std_dev / np.sqrt(len(satisfaction_scores))\n",
    "\n",
    "# Calculate the margin of error (95% confidence level)\n",
    "margin_of_error = stats.t.ppf(0.975, df=len(satisfaction_scores)-1) * std_error\n",
    "\n",
    "# Calculate the confidence interval\n",
    "confidence_interval = (mean - margin_of_error, mean + margin_of_error)\n",
    "\n",
    "# Print the confidence interval\n",
    "print(\"95% Confidence Interval:\", confidence_interval)\n"
   ]
  },
  {
   "cell_type": "markdown",
   "id": "4d88d623-057c-4c04-8083-0a9eead01156",
   "metadata": {},
   "source": [
    "# 14. Scenario: A company wants to analyze the effect of temperature on product performance. The data collected is as follows:\n",
    "    Temperature (in degrees Celsius): [20, 22, 23, 19, 21]\n",
    "    Performance (on a scale of 1 to 10): [8, 7, 9, 6, 8]\n",
    "    Perform a simple linear regression to predict performance based on temperature.\n"
   ]
  },
  {
   "cell_type": "code",
   "execution_count": 7,
   "id": "40fa3ca7-2b0c-4630-84a6-0dcdcc78d940",
   "metadata": {},
   "outputs": [
    {
     "name": "stdout",
     "output_type": "stream",
     "text": [
      "                            OLS Regression Results                            \n",
      "==============================================================================\n",
      "Dep. Variable:                      y   R-squared:                       0.481\n",
      "Model:                            OLS   Adj. R-squared:                  0.308\n",
      "Method:                 Least Squares   F-statistic:                     2.778\n",
      "Date:                Sat, 15 Jul 2023   Prob (F-statistic):              0.194\n",
      "Time:                        13:25:03   Log-Likelihood:                -5.5542\n",
      "No. Observations:                   5   AIC:                             15.11\n",
      "Df Residuals:                       3   BIC:                             14.33\n",
      "Df Model:                           1                                         \n",
      "Covariance Type:            nonrobust                                         \n",
      "==============================================================================\n",
      "                 coef    std err          t      P>|t|      [0.025      0.975]\n",
      "------------------------------------------------------------------------------\n",
      "const         -2.9000      6.314     -0.459      0.677     -22.995      17.195\n",
      "x1             0.5000      0.300      1.667      0.194      -0.455       1.455\n",
      "==============================================================================\n",
      "Omnibus:                          nan   Durbin-Watson:                   3.056\n",
      "Prob(Omnibus):                    nan   Jarque-Bera (JB):                0.522\n",
      "Skew:                          -0.348   Prob(JB):                        0.770\n",
      "Kurtosis:                       1.578   Cond. No.                         314.\n",
      "==============================================================================\n",
      "\n",
      "Notes:\n",
      "[1] Standard Errors assume that the covariance matrix of the errors is correctly specified.\n"
     ]
    },
    {
     "name": "stderr",
     "output_type": "stream",
     "text": [
      "/opt/conda/lib/python3.10/site-packages/statsmodels/stats/stattools.py:74: ValueWarning: omni_normtest is not valid with less than 8 observations; 5 samples were given.\n",
      "  warn(\"omni_normtest is not valid with less than 8 observations; %i \"\n"
     ]
    }
   ],
   "source": [
    "import statsmodels.api as sm\n",
    "\n",
    "# Data\n",
    "temperature = [20, 22, 23, 19, 21]\n",
    "performance = [8, 7, 9, 6, 8]\n",
    "\n",
    "# Add a constant term for the intercept\n",
    "temperature_with_constant = sm.add_constant(temperature)\n",
    "\n",
    "# Fit the linear regression model\n",
    "model = sm.OLS(performance, temperature_with_constant)\n",
    "results = model.fit()\n",
    "\n",
    "# Print the regression results\n",
    "print(results.summary())\n"
   ]
  },
  {
   "cell_type": "markdown",
   "id": "5f141764-bcd6-4b10-996c-3135573cc483",
   "metadata": {},
   "source": [
    "# 15. Scenario: A study is conducted to compare the preferences of two groups of participants. The preferences are measured on a Likert scale from 1 to 5. The data collected is as follows:\n",
    "#    Group A: [4, 3, 5, 2, 4]\n",
    " #   Group B: [3, 2, 4, 3, 3]\n",
    " #   Perform a Mann-Whitney U test to determine if there is a significant difference in the median preferences between the two groups.\n"
   ]
  },
  {
   "cell_type": "code",
   "execution_count": 8,
   "id": "a4c15991-01c0-427c-8e88-faa0e3c06249",
   "metadata": {},
   "outputs": [
    {
     "name": "stdout",
     "output_type": "stream",
     "text": [
      "Mann-Whitney U statistic: 17.0\n",
      "p-value: 0.380836480306712\n"
     ]
    }
   ],
   "source": [
    "import scipy.stats as stats\n",
    "\n",
    "# Data\n",
    "group_a = [4, 3, 5, 2, 4]\n",
    "group_b = [3, 2, 4, 3, 3]\n",
    "\n",
    "# Perform Mann-Whitney U test\n",
    "statistic, p_value = stats.mannwhitneyu(group_a, group_b, alternative='two-sided')\n",
    "\n",
    "# Print the Mann-Whitney U test results\n",
    "print(\"Mann-Whitney U statistic:\", statistic)\n",
    "print(\"p-value:\", p_value)\n"
   ]
  },
  {
   "cell_type": "markdown",
   "id": "4900c8a1-a6ad-4479-8b4b-5c5c531ee43a",
   "metadata": {},
   "source": [
    "# 16. Scenario: A company wants to analyze the distribution of customer ages. The data collected is as follows:\n",
    " #   [25, 30, 35, 40, 45, 50, 55, 60, 65, 70]\n",
    " #   Calculate the interquartile range (IQR) of the ages.\n"
   ]
  },
  {
   "cell_type": "markdown",
   "id": "d8e41729-e032-4f5c-9507-82aa16a41390",
   "metadata": {},
   "source": [
    "To calculate the interquartile range (IQR) of the ages based on the provided data, you need to first determine the 25th percentile (Q1) and the 75th percentile (Q3). Then, you can calculate the IQR by subtracting Q1 from Q3. Here's how you can do it:\n",
    "\n",
    "Ages: [25, 30, 35, 40, 45, 50, 55, 60, 65, 70]\n",
    "\n",
    "Step 1: Arrange the ages in ascending order:\n",
    "[25, 30, 35, 40, 45, 50, 55, 60, 65, 70]\n",
    "\n",
    "Step 2: Determine the position of Q1 (25th percentile):\n",
    "Position = (25 / 100) * (n - 1) + 1\n",
    "= (0.25) * (10 - 1) + 1\n",
    "= (0.25) * 9 + 1\n",
    "= 2.25 + 1\n",
    "= 3.25\n",
    "\n",
    "Since the position is not an integer, we can interpolate between the values at the 3rd and 4th positions to estimate Q1:\n",
    "Q1 = 35 + (40 - 35) * (0.25 - 0.2) / (0.3 - 0.2)\n",
    "= 35 + 5 * (0.25 - 0.2) / 0.1\n",
    "= 35 + 5 * 0.05 / 0.1\n",
    "= 35 + 5 * 0.5\n",
    "= 35 + 2.5\n",
    "= 37.5\n",
    "\n",
    "Step 3: Determine the position of Q3 (75th percentile):\n",
    "Position = (75 / 100) * (n - 1) + 1\n",
    "= (0.75) * (10 - 1) + 1\n",
    "= (0.75) * 9 + 1\n",
    "= 6.75 + 1\n",
    "= 7.75\n",
    "\n",
    "Since the position is not an integer, we can interpolate between the values at the 7th and 8th positions to estimate Q3:\n",
    "Q3 = 55 + (60 - 55) * (0.75 - 0.7) / (0.8 - 0.7)\n",
    "= 55 + 5 * (0.75 - 0.7) / 0.1\n",
    "= 55 + 5 * 0.05 / 0.1\n",
    "= 55 + 5 * 0.5\n",
    "= 55 + 2.5\n",
    "= 57.5\n",
    "\n",
    "Step 4: Calculate the interquartile range (IQR):\n",
    "IQR = Q3 - Q1\n",
    "= 57.5 - 37.5\n",
    "= 20\n",
    "\n",
    "Therefore, the interquartile range (IQR) of the ages is 20."
   ]
  },
  {
   "cell_type": "markdown",
   "id": "29425ef6-cc8e-4c7c-a5ae-68c694433f8a",
   "metadata": {},
   "source": [
    "# 17. Scenario: A study is conducted to compare the performance of three different machine learning algorithms. The accuracy scores for each algorithm are as follows:\n",
    "#    Algorithm A: [0.85, 0.80, 0.82, 0.87, 0.83]\n",
    "#    Algorithm B: [0.78, 0.82, 0.84, 0.80, 0.79]\n",
    " #   Algorithm C: [0.90, 0.88, 0.89, 0.86, 0.87]\n",
    " #   Perform a Kruskal-Wallis test to determine if there is a significant difference in the median accuracy scores between the algorithms.\n"
   ]
  },
  {
   "cell_type": "code",
   "execution_count": 9,
   "id": "98eeaf74-3695-48e7-b0ae-6116ab5be10c",
   "metadata": {},
   "outputs": [
    {
     "name": "stdout",
     "output_type": "stream",
     "text": [
      "Kruskal-Wallis statistic: 9.696947935368053\n",
      "p-value: 0.007840333026249539\n"
     ]
    }
   ],
   "source": [
    "import scipy.stats as stats\n",
    "\n",
    "# Accuracy scores\n",
    "algorithm_a = [0.85, 0.80, 0.82, 0.87, 0.83]\n",
    "algorithm_b = [0.78, 0.82, 0.84, 0.80, 0.79]\n",
    "algorithm_c = [0.90, 0.88, 0.89, 0.86, 0.87]\n",
    "\n",
    "# Perform Kruskal-Wallis test\n",
    "statistic, p_value = stats.kruskal(algorithm_a, algorithm_b, algorithm_c)\n",
    "\n",
    "# Print the Kruskal-Wallis test results\n",
    "print(\"Kruskal-Wallis statistic:\", statistic)\n",
    "print(\"p-value:\", p_value)\n"
   ]
  },
  {
   "cell_type": "markdown",
   "id": "8f5593cb-6170-42a4-bc24-9076a2eb2c75",
   "metadata": {},
   "source": [
    "# 18. Scenario: A company wants to analyze the effect of price on sales. The data collected is as follows:\n",
    "    Price (in dollars): [10, 15, 12, 8, 14]\n",
    "    Sales: [100, 80, 90, 110, 95]\n",
    "    Perform a simple linear regression to predict\n",
    "\n",
    " sales based on price.\n"
   ]
  },
  {
   "cell_type": "code",
   "execution_count": 10,
   "id": "85ac1cfa-946c-4141-8e69-ee319e80ab0c",
   "metadata": {},
   "outputs": [
    {
     "name": "stdout",
     "output_type": "stream",
     "text": [
      "                            OLS Regression Results                            \n",
      "==============================================================================\n",
      "Dep. Variable:                      y   R-squared:                       0.806\n",
      "Model:                            OLS   Adj. R-squared:                  0.742\n",
      "Method:                 Least Squares   F-statistic:                     12.50\n",
      "Date:                Sat, 15 Jul 2023   Prob (F-statistic):             0.0385\n",
      "Time:                        13:32:54   Log-Likelihood:                -14.503\n",
      "No. Observations:                   5   AIC:                             33.01\n",
      "Df Residuals:                       3   BIC:                             32.22\n",
      "Df Model:                           1                                         \n",
      "Covariance Type:            nonrobust                                         \n",
      "==============================================================================\n",
      "                 coef    std err          t      P>|t|      [0.025      0.975]\n",
      "------------------------------------------------------------------------------\n",
      "const        136.3720     11.976     11.387      0.001      98.259     174.485\n",
      "x1            -3.5061      0.992     -3.535      0.039      -6.663      -0.350\n",
      "==============================================================================\n",
      "Omnibus:                          nan   Durbin-Watson:                   0.811\n",
      "Prob(Omnibus):                    nan   Jarque-Bera (JB):                0.632\n",
      "Skew:                           0.770   Prob(JB):                        0.729\n",
      "Kurtosis:                       2.186   Cond. No.                         57.3\n",
      "==============================================================================\n",
      "\n",
      "Notes:\n",
      "[1] Standard Errors assume that the covariance matrix of the errors is correctly specified.\n"
     ]
    },
    {
     "name": "stderr",
     "output_type": "stream",
     "text": [
      "/opt/conda/lib/python3.10/site-packages/statsmodels/stats/stattools.py:74: ValueWarning: omni_normtest is not valid with less than 8 observations; 5 samples were given.\n",
      "  warn(\"omni_normtest is not valid with less than 8 observations; %i \"\n"
     ]
    }
   ],
   "source": [
    "import statsmodels.api as sm\n",
    "\n",
    "# Data\n",
    "price = [10, 15, 12, 8, 14]\n",
    "sales = [100, 80, 90, 110, 95]\n",
    "\n",
    "# Add a constant term for the intercept\n",
    "price_with_constant = sm.add_constant(price)\n",
    "\n",
    "# Fit the linear regression model\n",
    "model = sm.OLS(sales, price_with_constant)\n",
    "results = model.fit()\n",
    "\n",
    "# Print the regression results\n",
    "print(results.summary())\n"
   ]
  },
  {
   "cell_type": "markdown",
   "id": "3b25458c-c8aa-4e4e-80e8-332ead643fb0",
   "metadata": {},
   "source": [
    "# 19. Scenario: A survey is conducted to measure the satisfaction levels of customers with a new product. The data collected is as follows:\n",
    "#    [7, 8, 9, 6, 8, 7, 9, 7, 8, 7]\n",
    "#    Calculate the standard error of the mean satisfaction score.\n"
   ]
  },
  {
   "cell_type": "code",
   "execution_count": 11,
   "id": "d3a2ce8e-de18-4512-8994-d0e346d45a41",
   "metadata": {},
   "outputs": [
    {
     "name": "stdout",
     "output_type": "stream",
     "text": [
      "Standard Error of the Mean: 0.30550504633038933\n"
     ]
    }
   ],
   "source": [
    "import numpy as np\n",
    "\n",
    "# Data\n",
    "satisfaction_scores = [7, 8, 9, 6, 8, 7, 9, 7, 8, 7]\n",
    "\n",
    "# Calculate the standard deviation\n",
    "std_dev = np.std(satisfaction_scores, ddof=1)  # Set ddof=1 for sample standard deviation\n",
    "\n",
    "# Calculate the sample size\n",
    "sample_size = len(satisfaction_scores)\n",
    "\n",
    "# Calculate the standard error\n",
    "standard_error = std_dev / np.sqrt(sample_size)\n",
    "\n",
    "# Print the standard error\n",
    "print(\"Standard Error of the Mean:\", standard_error)\n"
   ]
  },
  {
   "cell_type": "markdown",
   "id": "54181c92-ff61-465e-b627-97653cd43958",
   "metadata": {},
   "source": [
    "# 20. Scenario: A company wants to analyze the relationship between advertising expenditure and sales. The data collected is as follows:\n",
    "#    Advertising Expenditure (in thousands): [10, 15, 12, 8, 14]\n",
    "#    Sales (in thousands): [25, 30, 28, 20, 26]\n",
    "#    Perform a multiple regression analysis to predict sales based on advertising expenditure.\n"
   ]
  },
  {
   "cell_type": "code",
   "execution_count": 12,
   "id": "6ad3ef6c-967f-48a4-a07d-73c3fd53bfe9",
   "metadata": {},
   "outputs": [
    {
     "name": "stdout",
     "output_type": "stream",
     "text": [
      "                            OLS Regression Results                            \n",
      "==============================================================================\n",
      "Dep. Variable:                      y   R-squared:                       0.767\n",
      "Model:                            OLS   Adj. R-squared:                  0.689\n",
      "Method:                 Least Squares   F-statistic:                     9.872\n",
      "Date:                Sat, 15 Jul 2023   Prob (F-statistic):             0.0516\n",
      "Time:                        13:35:00   Log-Likelihood:                -9.5288\n",
      "No. Observations:                   5   AIC:                             23.06\n",
      "Df Residuals:                       3   BIC:                             22.28\n",
      "Df Model:                           1                                         \n",
      "Covariance Type:            nonrobust                                         \n",
      "==============================================================================\n",
      "                 coef    std err          t      P>|t|      [0.025      0.975]\n",
      "------------------------------------------------------------------------------\n",
      "const         12.2012      4.429      2.755      0.070      -1.893      26.296\n",
      "x1             1.1524      0.367      3.142      0.052      -0.015       2.320\n",
      "==============================================================================\n",
      "Omnibus:                          nan   Durbin-Watson:                   1.136\n",
      "Prob(Omnibus):                    nan   Jarque-Bera (JB):                0.546\n",
      "Skew:                          -0.267   Prob(JB):                        0.761\n",
      "Kurtosis:                       1.471   Cond. No.                         57.3\n",
      "==============================================================================\n",
      "\n",
      "Notes:\n",
      "[1] Standard Errors assume that the covariance matrix of the errors is correctly specified.\n"
     ]
    },
    {
     "name": "stderr",
     "output_type": "stream",
     "text": [
      "/opt/conda/lib/python3.10/site-packages/statsmodels/stats/stattools.py:74: ValueWarning: omni_normtest is not valid with less than 8 observations; 5 samples were given.\n",
      "  warn(\"omni_normtest is not valid with less than 8 observations; %i \"\n"
     ]
    }
   ],
   "source": [
    "import statsmodels.api as sm\n",
    "import numpy as np\n",
    "\n",
    "# Data\n",
    "advertising_expenditure = [10, 15, 12, 8, 14]\n",
    "sales = [25, 30, 28, 20, 26]\n",
    "\n",
    "# Add a constant term for the intercept\n",
    "X = sm.add_constant(advertising_expenditure)\n",
    "\n",
    "# Fit the multiple regression model\n",
    "model = sm.OLS(sales, X)\n",
    "results = model.fit()\n",
    "\n",
    "# Print the regression results\n",
    "print(results.summary())\n"
   ]
  },
  {
   "cell_type": "code",
   "execution_count": null,
   "id": "20c8a56d-0572-4feb-bd55-f3592f159072",
   "metadata": {},
   "outputs": [],
   "source": []
  }
 ],
 "metadata": {
  "kernelspec": {
   "display_name": "Python 3 (ipykernel)",
   "language": "python",
   "name": "python3"
  },
  "language_info": {
   "codemirror_mode": {
    "name": "ipython",
    "version": 3
   },
   "file_extension": ".py",
   "mimetype": "text/x-python",
   "name": "python",
   "nbconvert_exporter": "python",
   "pygments_lexer": "ipython3",
   "version": "3.10.8"
  }
 },
 "nbformat": 4,
 "nbformat_minor": 5
}
