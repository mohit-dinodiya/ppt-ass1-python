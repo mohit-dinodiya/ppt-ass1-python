{
 "cells": [
  {
   "cell_type": "markdown",
   "id": "d326578c-2763-437e-842b-9ed803879cae",
   "metadata": {},
   "source": [
    "## 1. Write a Python program to reverse a string without using any built-in string reversal functions."
   ]
  },
  {
   "cell_type": "code",
   "execution_count": 1,
   "id": "a0e5dd9c-efc3-47e9-a867-b6987ce94d54",
   "metadata": {},
   "outputs": [
    {
     "data": {
      "text/plain": [
       "'tihom'"
      ]
     },
     "execution_count": 1,
     "metadata": {},
     "output_type": "execute_result"
    }
   ],
   "source": [
    "a  = 'mohit'\n",
    "a[::-1]"
   ]
  },
  {
   "cell_type": "markdown",
   "id": "3e6423e2-9e08-4dec-a924-3175d2e366c0",
   "metadata": {},
   "source": [
    " 2nd solution"
   ]
  },
  {
   "cell_type": "code",
   "execution_count": 7,
   "id": "de0187d6-057a-4ddd-84f8-e02f1d78e277",
   "metadata": {},
   "outputs": [
    {
     "name": "stdin",
     "output_type": "stream",
     "text": [
      "enter a string: kj\n"
     ]
    },
    {
     "name": "stdout",
     "output_type": "stream",
     "text": [
      "reversed string: jk\n"
     ]
    }
   ],
   "source": [
    "def reverse_string(string):\n",
    "    reversed_string = \"\"\n",
    "    for char in string:\n",
    "        reversed_string = char + reversed_string\n",
    "    return reversed_string\n",
    "input_string = input(\"enter a string:\")\n",
    "reversed_string = reverse_string(input_string)\n",
    "print(\"reversed string:\" , reversed_string)"
   ]
  },
  {
   "cell_type": "markdown",
   "id": "59c45663-84c7-48cd-a5dd-71a2437b3298",
   "metadata": {},
   "source": [
    "# 2. Implement a function to check if a given string is a palindrome."
   ]
  },
  {
   "cell_type": "code",
   "execution_count": 10,
   "id": "11ae049a-f224-4a0e-be0d-2df92c5e2d46",
   "metadata": {},
   "outputs": [
    {
     "name": "stdin",
     "output_type": "stream",
     "text": [
      "enter a string: priya kuMr\n"
     ]
    },
    {
     "name": "stdout",
     "output_type": "stream",
     "text": [
      "string is not a ploindrome\n"
     ]
    }
   ],
   "source": [
    "def palindrome(string):\n",
    "    string = string.replace(\" \" , \"\").lower()\n",
    "    left = 0\n",
    "    right = len(string) -1\n",
    "    while left < right:\n",
    "        if string[left] != string[right]:\n",
    "            return False\n",
    "        left +=1\n",
    "        right -=1\n",
    "    return True\n",
    "input_string = input(\"enter a string:\")\n",
    "if palindrome(input_string):\n",
    "    print (\"the string is palindrome\")\n",
    "else:\n",
    "    print(\"string is not a ploindrome\")"
   ]
  },
  {
   "cell_type": "markdown",
   "id": "827d4262-2f4d-419d-92e1-39630d40146f",
   "metadata": {},
   "source": [
    "# 3. Write a program to find the largest element in a given list."
   ]
  },
  {
   "cell_type": "code",
   "execution_count": 11,
   "id": "ce26ba17-d3b8-4568-870e-1b03060c67ed",
   "metadata": {},
   "outputs": [
    {
     "name": "stdin",
     "output_type": "stream",
     "text": [
      "Enter a list of numbers separated by spaces:  22 33 1 55 7 88 98 65\n"
     ]
    },
    {
     "name": "stdout",
     "output_type": "stream",
     "text": [
      "Largest element: 98\n"
     ]
    }
   ],
   "source": [
    "def find_largest_element(lst):\n",
    "    if len(lst) == 0:\n",
    "        return None\n",
    "\n",
    "    largest = lst[0]\n",
    "    for num in lst:\n",
    "        if num > largest:\n",
    "            largest = num\n",
    "\n",
    "    return largest\n",
    "\n",
    "# Test the function\n",
    "input_list = [int(num) for num in input(\"Enter a list of numbers separated by spaces: \").split()]\n",
    "largest_element = find_largest_element(input_list)\n",
    "print(\"Largest element:\", largest_element)\n"
   ]
  },
  {
   "cell_type": "markdown",
   "id": "a45bf82e-6606-4107-b094-a58b50db15de",
   "metadata": {},
   "source": [
    "# 4. Implement a function to count the occurrence of each element in a list."
   ]
  },
  {
   "cell_type": "code",
   "execution_count": 1,
   "id": "da23154f-b5fa-4ee1-983c-6536c0af0ac9",
   "metadata": {},
   "outputs": [],
   "source": [
    "def count_elements(lst):\n",
    "    counts = {}\n",
    "    for element in lst:\n",
    "        if element in counts:\n",
    "            counts[element] += 1\n",
    "        else:\n",
    "            counts[element] = 1\n",
    "    return counts\n"
   ]
  },
  {
   "cell_type": "code",
   "execution_count": 2,
   "id": "00c0f82b-806b-432b-8a2b-0cae9a2e5f77",
   "metadata": {},
   "outputs": [
    {
     "name": "stdout",
     "output_type": "stream",
     "text": [
      "{1: 3, 2: 2, 3: 1, 4: 2, 5: 1}\n"
     ]
    }
   ],
   "source": [
    "my_list = [1, 2, 3, 2, 1, 1, 4, 5, 4]\n",
    "result = count_elements(my_list)\n",
    "print(result)\n"
   ]
  },
  {
   "cell_type": "markdown",
   "id": "b453b912-d8eb-49c2-b388-cb1735931adc",
   "metadata": {},
   "source": [
    "# 5. Write a Python program to find the second largest number in a list."
   ]
  },
  {
   "cell_type": "code",
   "execution_count": 3,
   "id": "975ac75f-30a3-4297-8ed8-def600a33537",
   "metadata": {},
   "outputs": [],
   "source": [
    "def find_second_largest(lst):\n",
    "    if len(lst) < 2:\n",
    "        return \"List should have at least two elements\"\n",
    "    \n",
    "    largest = float('-inf')  \n",
    "    second_largest = float('-inf')  \n",
    "    \n",
    "    for num in lst:\n",
    "        if num > largest:\n",
    "            second_largest = largest\n",
    "            largest = num\n",
    "        elif num > second_largest and num != largest:\n",
    "            second_largest = num\n",
    "    \n",
    "    if second_largest == float('-inf'):\n",
    "        return \"No second largest element found\"\n",
    "    else:\n",
    "        return second_largest\n"
   ]
  },
  {
   "cell_type": "code",
   "execution_count": 4,
   "id": "0898e52a-d998-4c5d-b468-40900bdffc27",
   "metadata": {},
   "outputs": [
    {
     "name": "stdout",
     "output_type": "stream",
     "text": [
      "8\n"
     ]
    }
   ],
   "source": [
    "my_list = [5, 3, 8, 2, 9, 1, 7, 6]\n",
    "result = find_second_largest(my_list)\n",
    "print(result)\n"
   ]
  },
  {
   "cell_type": "markdown",
   "id": "469f7132-28a0-4e49-b81d-7c1ad063ac08",
   "metadata": {},
   "source": [
    "# 6. Implement a function to remove duplicate elements from a list."
   ]
  },
  {
   "cell_type": "code",
   "execution_count": 5,
   "id": "ed5ff9b7-ac7b-4955-bbe9-ba1cb0a5ec61",
   "metadata": {},
   "outputs": [],
   "source": [
    "def remove_duplicates(lst):\n",
    "    unique_elements = []\n",
    "    for element in lst:\n",
    "        if element not in unique_elements:\n",
    "            unique_elements.append(element)\n",
    "    return unique_elements\n"
   ]
  },
  {
   "cell_type": "code",
   "execution_count": 6,
   "id": "a55de4a7-327a-4466-91ec-4bc9ffb0f1c4",
   "metadata": {},
   "outputs": [
    {
     "name": "stdout",
     "output_type": "stream",
     "text": [
      "[1, 2, 3, 4, 5]\n"
     ]
    }
   ],
   "source": [
    "my_list = [1, 2, 3, 2, 1, 4, 5, 4]\n",
    "result = remove_duplicates(my_list)\n",
    "print(result)\n"
   ]
  },
  {
   "cell_type": "markdown",
   "id": "1ef73af4-be00-4f7e-b8a9-7db4b94ab323",
   "metadata": {},
   "source": [
    "# 7. Write a program to calculate the factorial of a given number"
   ]
  },
  {
   "cell_type": "code",
   "execution_count": 7,
   "id": "854507f5-01c0-477f-9d9e-a2f8a9eabc0d",
   "metadata": {},
   "outputs": [],
   "source": [
    "def factorial(n):\n",
    "    if n < 0:\n",
    "        return \"Factorial is not defined for negative numbers\"\n",
    "    elif n == 0 or n == 1:\n",
    "        return 1\n",
    "    else:\n",
    "        result = 1\n",
    "        for i in range(2, n + 1):\n",
    "            result *= i\n",
    "        return result\n"
   ]
  },
  {
   "cell_type": "code",
   "execution_count": 8,
   "id": "2bc1b3ba-cfbe-4644-aa4d-2afaef82a3ec",
   "metadata": {},
   "outputs": [
    {
     "name": "stdout",
     "output_type": "stream",
     "text": [
      "The factorial of 5 is: 120\n"
     ]
    }
   ],
   "source": [
    "number = 5\n",
    "result = factorial(number)\n",
    "print(f\"The factorial of {number} is: {result}\")\n"
   ]
  },
  {
   "cell_type": "markdown",
   "id": "e5948a26-6536-4ce4-92be-5e45ea18aed8",
   "metadata": {},
   "source": [
    "# 8. Implement a function to check if a given number is prime."
   ]
  },
  {
   "cell_type": "code",
   "execution_count": 9,
   "id": "eacc283f-9ab4-4dc0-9583-b829cb2489e7",
   "metadata": {},
   "outputs": [],
   "source": [
    "def is_prime(number):\n",
    "    if number <= 1:\n",
    "        return False\n",
    "    for i in range(2, int(number ** 0.5) + 1):\n",
    "        if number % i == 0:\n",
    "            return False\n",
    "    return True\n"
   ]
  },
  {
   "cell_type": "code",
   "execution_count": 10,
   "id": "1be88cf7-35f0-4cc5-8822-0e007877b84c",
   "metadata": {},
   "outputs": [
    {
     "name": "stdout",
     "output_type": "stream",
     "text": [
      "17 is prime\n"
     ]
    }
   ],
   "source": [
    "number = 17\n",
    "result = is_prime(number)\n",
    "if result:\n",
    "    print(f\"{number} is prime\")\n",
    "else:\n",
    "    print(f\"{number} is not prime\")\n"
   ]
  },
  {
   "cell_type": "markdown",
   "id": "c064ea4e-a380-48e4-9f4d-fe9e1c6dbf2f",
   "metadata": {},
   "source": [
    "# 9. Write a Python program to sort a list of integers in ascending order."
   ]
  },
  {
   "cell_type": "code",
   "execution_count": 11,
   "id": "31450294-4d16-4dda-9efd-937a55fe0ef7",
   "metadata": {},
   "outputs": [],
   "source": [
    "def sort_list(lst):\n",
    "    sorted_list = sorted(lst)\n",
    "    return sorted_list\n"
   ]
  },
  {
   "cell_type": "code",
   "execution_count": 12,
   "id": "5b466dd6-2c91-4ddc-8e09-837ce7e335dd",
   "metadata": {},
   "outputs": [
    {
     "name": "stdout",
     "output_type": "stream",
     "text": [
      "[1, 2, 3, 4, 5, 6, 7, 8, 9]\n"
     ]
    }
   ],
   "source": [
    "my_list = [9, 5, 2, 7, 1, 8, 3, 6, 4]\n",
    "result = sort_list(my_list)\n",
    "print(result)\n"
   ]
  },
  {
   "cell_type": "markdown",
   "id": "ccc46a79-89a7-41b4-9f08-4bc2542e2975",
   "metadata": {},
   "source": [
    "# 10. Implement a function to find the sum of all numbers in a list."
   ]
  },
  {
   "cell_type": "code",
   "execution_count": 13,
   "id": "7de51c78-3aff-497f-9a31-7187a74b5dcd",
   "metadata": {},
   "outputs": [],
   "source": [
    "def sum_list(lst):\n",
    "    total = sum(lst)\n",
    "    return total\n"
   ]
  },
  {
   "cell_type": "code",
   "execution_count": 14,
   "id": "0c975903-004f-4d2f-8d72-1ac2d894172b",
   "metadata": {},
   "outputs": [
    {
     "name": "stdout",
     "output_type": "stream",
     "text": [
      "15\n"
     ]
    }
   ],
   "source": [
    "my_list = [1, 2, 3, 4, 5]\n",
    "result = sum_list(my_list)\n",
    "print(result)\n"
   ]
  },
  {
   "cell_type": "markdown",
   "id": "3412affb-85c5-4382-8b8f-5aa62f7b97af",
   "metadata": {},
   "source": [
    "# 11. Write a program to find the common elements between two lists"
   ]
  },
  {
   "cell_type": "code",
   "execution_count": 15,
   "id": "fedf2f85-46d4-4174-9199-b3a5e7f17d9d",
   "metadata": {},
   "outputs": [],
   "source": [
    "def find_common_elements(list1, list2):\n",
    "    common_elements = []\n",
    "    for element in list1:\n",
    "        if element in list2:\n",
    "            common_elements.append(element)\n",
    "    return common_elements\n"
   ]
  },
  {
   "cell_type": "code",
   "execution_count": 16,
   "id": "0dbcbe7a-98ed-40bd-9661-d62c7e5eb2b9",
   "metadata": {},
   "outputs": [
    {
     "name": "stdout",
     "output_type": "stream",
     "text": [
      "[4, 5]\n"
     ]
    }
   ],
   "source": [
    "my_list1 = [1, 2, 3, 4, 5]\n",
    "my_list2 = [4, 5, 6, 7, 8]\n",
    "result = find_common_elements(my_list1, my_list2)\n",
    "print(result)\n"
   ]
  },
  {
   "cell_type": "markdown",
   "id": "951bdb6b-9f7e-4579-8301-3be01469ca03",
   "metadata": {},
   "source": [
    "# 12. Implement a function to check if a given string is an anagram of another string."
   ]
  },
  {
   "cell_type": "code",
   "execution_count": 18,
   "id": "6f8fe900-7b19-40de-88ac-19ff25bbadd8",
   "metadata": {},
   "outputs": [],
   "source": [
    "def is_anagram(str1, str2):\n",
    "    # Convert strings to lowercase and remove spaces\n",
    "    str1 = str1.lower().replace(\" \", \"\")\n",
    "    str2 = str2.lower().replace(\" \", \"\")\n",
    "    \n",
    "    # Check if lengths of strings are equal\n",
    "    if len(str1) != len(str2):\n",
    "        return False\n",
    "    \n",
    "    # Create dictionaries to store character frequencies\n",
    "    char_count1 = {}\n",
    "    char_count2 = {}\n",
    "    \n",
    "    # Count frequencies of characters in str1\n",
    "    for char in str1:\n",
    "        char_count1[char] = char_count1.get(char, 0) + 1\n",
    "    \n",
    "    # Count frequencies of characters in str2\n",
    "    for char in str2:\n",
    "        char_count2[char] = char_count2.get(char, 0) + 1\n",
    "    \n",
    "    # Compare the character frequencies\n",
    "    if char_count1 == char_count2:\n",
    "        return True\n",
    "    else:\n",
    "        return False\n"
   ]
  },
  {
   "cell_type": "code",
   "execution_count": 19,
   "id": "307dd899-5e5f-4cd8-9a64-c6bb2b4d0e67",
   "metadata": {},
   "outputs": [
    {
     "name": "stdout",
     "output_type": "stream",
     "text": [
      "listen and silent are anagrams\n"
     ]
    }
   ],
   "source": [
    "string1 = \"listen\"\n",
    "string2 = \"silent\"\n",
    "result = is_anagram(string1, string2)\n",
    "if result:\n",
    "    print(f\"{string1} and {string2} are anagrams\")\n",
    "else:\n",
    "    print(f\"{string1} and {string2} are not anagrams\")\n"
   ]
  },
  {
   "cell_type": "markdown",
   "id": "8f46d7d1-2a8c-4a94-8888-00b4fb7d3e2d",
   "metadata": {},
   "source": [
    "# 13. Write a Python program to generate all permutations of a given string."
   ]
  },
  {
   "cell_type": "code",
   "execution_count": 20,
   "id": "a6c099a8-6715-4f42-8b48-8d1045a2e8e9",
   "metadata": {},
   "outputs": [],
   "source": [
    "def permute_string(string):\n",
    "    # Base case: If the string has only one character, return it as a single-element list\n",
    "    if len(string) == 1:\n",
    "        return [string]\n",
    "\n",
    "    # List to store permutations\n",
    "    permutations = []\n",
    "\n",
    "    # Generate permutations for each character in the string\n",
    "    for i in range(len(string)):\n",
    "        # Extract the current character\n",
    "        char = string[i]\n",
    "\n",
    "        # Generate permutations for the remaining characters\n",
    "        remaining_chars = string[:i] + string[i+1:]\n",
    "        sub_permutations = permute_string(remaining_chars)\n",
    "\n",
    "        # Append the current character to each permutation of the remaining characters\n",
    "        for perm in sub_permutations:\n",
    "            permutations.append(char + perm)\n",
    "\n",
    "    # Return the list of permutations\n",
    "    return permutations\n"
   ]
  },
  {
   "cell_type": "code",
   "execution_count": 21,
   "id": "b223434e-57d1-4b37-93d8-34bc5461ab78",
   "metadata": {},
   "outputs": [
    {
     "name": "stdout",
     "output_type": "stream",
     "text": [
      "['abc', 'acb', 'bac', 'bca', 'cab', 'cba']\n"
     ]
    }
   ],
   "source": [
    "string = \"abc\"\n",
    "result = permute_string(string)\n",
    "print(result)\n"
   ]
  },
  {
   "cell_type": "markdown",
   "id": "81f08a9d-9606-4955-bb83-259c48691b12",
   "metadata": {},
   "source": [
    "# 14. Implement a function to calculate the Fibonacci sequence up to a given number of terms."
   ]
  },
  {
   "cell_type": "code",
   "execution_count": 22,
   "id": "322eead9-5616-4689-9676-5c66e373370b",
   "metadata": {},
   "outputs": [],
   "source": [
    "def fibonacci_sequence(n):\n",
    "    sequence = []\n",
    "    \n",
    "    if n <= 0:\n",
    "        return sequence\n",
    "    \n",
    "    if n >= 1:\n",
    "        sequence.append(0)\n",
    "    \n",
    "    if n >= 2:\n",
    "        sequence.append(1)\n",
    "    \n",
    "    if n > 2:\n",
    "        for i in range(2, n):\n",
    "            next_number = sequence[i-1] + sequence[i-2]\n",
    "            sequence.append(next_number)\n",
    "    \n",
    "    return sequence\n"
   ]
  },
  {
   "cell_type": "code",
   "execution_count": 23,
   "id": "2345bc81-c138-42b1-84fd-df9128387eec",
   "metadata": {},
   "outputs": [
    {
     "name": "stdout",
     "output_type": "stream",
     "text": [
      "[0, 1, 1, 2, 3, 5, 8, 13, 21, 34]\n"
     ]
    }
   ],
   "source": [
    "num_terms = 10\n",
    "result = fibonacci_sequence(num_terms)\n",
    "print(result)\n"
   ]
  },
  {
   "cell_type": "markdown",
   "id": "8e1484e0-0684-4896-a0b1-8d9d31f58958",
   "metadata": {},
   "source": [
    "# 15. Write a program to find the median of a list of numbers."
   ]
  },
  {
   "cell_type": "code",
   "execution_count": 24,
   "id": "8a67dd2b-67be-46e5-9134-9524a6ffa63e",
   "metadata": {},
   "outputs": [],
   "source": [
    "def find_median(numbers):\n",
    "    sorted_numbers = sorted(numbers)\n",
    "    length = len(sorted_numbers)\n",
    "    \n",
    "    if length % 2 == 0:\n",
    "        # If the length is even, calculate the average of the middle two numbers\n",
    "        middle_index1 = length // 2\n",
    "        middle_index2 = middle_index1 - 1\n",
    "        median = (sorted_numbers[middle_index1] + sorted_numbers[middle_index2]) / 2\n",
    "    else:\n",
    "        # If the length is odd, the median is the middle number\n",
    "        middle_index = length // 2\n",
    "        median = sorted_numbers[middle_index]\n",
    "    \n",
    "    return median\n"
   ]
  },
  {
   "cell_type": "code",
   "execution_count": 25,
   "id": "d74b3f5c-ffff-486d-a7d8-018e8880c3bc",
   "metadata": {},
   "outputs": [
    {
     "name": "stdout",
     "output_type": "stream",
     "text": [
      "5\n"
     ]
    }
   ],
   "source": [
    "my_numbers = [5, 2, 8, 4, 1, 9, 6, 3, 7]\n",
    "result = find_median(my_numbers)\n",
    "print(result)\n"
   ]
  },
  {
   "cell_type": "markdown",
   "id": "ef64a80d-3150-4ebe-9500-03416c8e5425",
   "metadata": {},
   "source": [
    "# 16. Implement a function to check if a given list is sorted in non-decreasing order."
   ]
  },
  {
   "cell_type": "code",
   "execution_count": 26,
   "id": "1a49823d-675c-46e5-81b6-583bc4195d2e",
   "metadata": {},
   "outputs": [],
   "source": [
    "def is_sorted(lst):\n",
    "    for i in range(1, len(lst)):\n",
    "        if lst[i] < lst[i-1]:\n",
    "            return False\n",
    "    return True\n"
   ]
  },
  {
   "cell_type": "code",
   "execution_count": 27,
   "id": "a8f69080-84ac-481f-8fcf-bc7660f459b5",
   "metadata": {},
   "outputs": [
    {
     "name": "stdout",
     "output_type": "stream",
     "text": [
      "The list is sorted in non-decreasing order.\n"
     ]
    }
   ],
   "source": [
    "my_list = [1, 2, 3, 4, 5]\n",
    "result = is_sorted(my_list)\n",
    "if result:\n",
    "    print(\"The list is sorted in non-decreasing order.\")\n",
    "else:\n",
    "    print(\"The list is not sorted in non-decreasing order.\")\n"
   ]
  },
  {
   "cell_type": "markdown",
   "id": "6c93071e-029b-4990-87d7-ff79df51fac1",
   "metadata": {},
   "source": [
    "# 17. Write a Python program to find the intersection of two lists."
   ]
  },
  {
   "cell_type": "code",
   "execution_count": 1,
   "id": "11fda18d-cfa4-4841-98a6-8996f688e018",
   "metadata": {},
   "outputs": [],
   "source": [
    "def find_intersection(list1, list2):\n",
    "    intersection = []\n",
    "    for element in list1:\n",
    "        if element in list2:\n",
    "            intersection.append(element)\n",
    "    return intersection\n"
   ]
  },
  {
   "cell_type": "code",
   "execution_count": 2,
   "id": "f1333613-5ec8-4010-b667-b91236fb0a7c",
   "metadata": {},
   "outputs": [
    {
     "name": "stdout",
     "output_type": "stream",
     "text": [
      "[4, 5]\n"
     ]
    }
   ],
   "source": [
    "my_list1 = [1, 2, 3, 4, 5]\n",
    "my_list2 = [4, 5, 6, 7, 8]\n",
    "result = find_intersection(my_list1, my_list2)\n",
    "print(result)\n"
   ]
  },
  {
   "cell_type": "markdown",
   "id": "56e72727-0851-4d1c-805a-3e57c4590526",
   "metadata": {},
   "source": [
    "# 18. Implement a function to find the maximum subarray sum in a given list."
   ]
  },
  {
   "cell_type": "code",
   "execution_count": 3,
   "id": "946c53e0-f461-45a4-a038-db9aed13dcf2",
   "metadata": {},
   "outputs": [],
   "source": [
    "def max_subarray_sum(nums):\n",
    "    max_sum = float('-inf')  \n",
    "    current_sum = 0  \n",
    "\n",
    "    for num in nums:\n",
    "        current_sum = max(num, current_sum + num)\n",
    "        max_sum = max(max_sum, current_sum)\n",
    "\n",
    "    return max_sum\n"
   ]
  },
  {
   "cell_type": "code",
   "execution_count": 4,
   "id": "4ba1dbe8-9661-48d3-8f33-cf3a4bbcd037",
   "metadata": {},
   "outputs": [
    {
     "name": "stdout",
     "output_type": "stream",
     "text": [
      "6\n"
     ]
    }
   ],
   "source": [
    "my_nums = [-2, 1, -3, 4, -1, 2, 1, -5, 4]\n",
    "result = max_subarray_sum(my_nums)\n",
    "print(result)\n"
   ]
  },
  {
   "cell_type": "markdown",
   "id": "ed96083a-5e45-41cd-b734-777ad10e93cf",
   "metadata": {},
   "source": [
    "# 19. Write a program to remove all vowels from a given string."
   ]
  },
  {
   "cell_type": "code",
   "execution_count": 5,
   "id": "552bf349-fe6f-4b76-88de-e752384ce7a4",
   "metadata": {},
   "outputs": [],
   "source": [
    "def remove_vowels(string):\n",
    "    vowels = ['a', 'e', 'i', 'o', 'u']\n",
    "    result = \"\"\n",
    "    for char in string:\n",
    "        if char.lower() not in vowels:\n",
    "            result += char\n",
    "    return result\n"
   ]
  },
  {
   "cell_type": "code",
   "execution_count": 6,
   "id": "711be5a8-8949-408c-9fd2-a67ce6e05c83",
   "metadata": {},
   "outputs": [
    {
     "name": "stdout",
     "output_type": "stream",
     "text": [
      "Hll, Wrld!\n"
     ]
    }
   ],
   "source": [
    "my_string = \"Hello, World!\"\n",
    "result = remove_vowels(my_string)\n",
    "print(result)\n"
   ]
  },
  {
   "cell_type": "markdown",
   "id": "2925b5af-934b-4136-bafe-5bcc84d30fa4",
   "metadata": {},
   "source": [
    "# 20. Implement a function to reverse the order of words in a given sentence."
   ]
  },
  {
   "cell_type": "code",
   "execution_count": 7,
   "id": "7ea0278e-9c86-4e24-8d26-6887405a4496",
   "metadata": {},
   "outputs": [],
   "source": [
    "def reverse_sentence(sentence):\n",
    "    words = sentence.split()  # Split the sentence into words\n",
    "    reversed_words = words[::-1]  # Reverse the order of words\n",
    "    reversed_sentence = \" \".join(reversed_words)  # Join the reversed words back into a sentence\n",
    "    return reversed_sentence\n"
   ]
  },
  {
   "cell_type": "code",
   "execution_count": 8,
   "id": "c6d02381-b0ec-49b6-98a8-1d9da9b47623",
   "metadata": {},
   "outputs": [
    {
     "name": "stdout",
     "output_type": "stream",
     "text": [
      "you? are How world! Hello,\n"
     ]
    }
   ],
   "source": [
    "my_sentence = \"Hello, world! How are you?\"\n",
    "result = reverse_sentence(my_sentence)\n",
    "print(result)\n"
   ]
  },
  {
   "cell_type": "markdown",
   "id": "8bd562b4-9cc7-43d7-a802-c84957ed34ca",
   "metadata": {},
   "source": [
    "# 21. Write a Python program to check if two strings are anagrams of each other."
   ]
  },
  {
   "cell_type": "code",
   "execution_count": 9,
   "id": "405922f2-3fd8-440a-8791-7590804093cf",
   "metadata": {},
   "outputs": [],
   "source": [
    "def are_anagrams(str1, str2):\n",
    "    str1 = str1.lower().replace(\" \", \"\")\n",
    "    str2 = str2.lower().replace(\" \", \"\")\n",
    "    \n",
    "    if len(str1) != len(str2):\n",
    "        return False\n",
    "    \n",
    "    char_count1 = {}\n",
    "    char_count2 = {}\n",
    "    \n",
    "    for char in str1:\n",
    "        char_count1[char] = char_count1.get(char, 0) + 1\n",
    "    \n",
    "    for char in str2:\n",
    "        char_count2[char] = char_count2.get(char, 0) + 1\n",
    "    \n",
    "    if char_count1 == char_count2:\n",
    "        return True\n",
    "    else:\n",
    "        return False\n"
   ]
  },
  {
   "cell_type": "code",
   "execution_count": 10,
   "id": "ad381174-2775-4663-b2ea-20482cb94bcb",
   "metadata": {},
   "outputs": [
    {
     "name": "stdout",
     "output_type": "stream",
     "text": [
      "listen and silent are anagrams\n"
     ]
    }
   ],
   "source": [
    "string1 = \"listen\"\n",
    "string2 = \"silent\"\n",
    "result = are_anagrams(string1, string2)\n",
    "if result:\n",
    "    print(f\"{string1} and {string2} are anagrams\")\n",
    "else:\n",
    "    print(f\"{string1} and {string2} are not anagrams\")\n"
   ]
  },
  {
   "cell_type": "markdown",
   "id": "aa45d5d5-f5d1-4427-9b65-409c59096874",
   "metadata": {},
   "source": [
    "# 22. Implement a function to find the first non-repeating character in a string."
   ]
  },
  {
   "cell_type": "code",
   "execution_count": 1,
   "id": "947ebd47-c084-4cd3-84b4-0b45a5ddb76d",
   "metadata": {},
   "outputs": [],
   "source": [
    "def find_first_non_repeating_char(string):\n",
    "    char_count = {}\n",
    "    \n",
    "    # Count frequencies of characters in the string\n",
    "    for char in string:\n",
    "        char_count[char] = char_count.get(char, 0) + 1\n",
    "    \n",
    "    # Find the first non-repeating character\n",
    "    for char in string:\n",
    "        if char_count[char] == 1:\n",
    "            return char\n",
    "    \n",
    "    # If no non-repeating character is found, return None\n",
    "    return None\n"
   ]
  },
  {
   "cell_type": "code",
   "execution_count": 2,
   "id": "d32cffb8-f32e-4714-b8ce-e97f28a1a49d",
   "metadata": {},
   "outputs": [
    {
     "name": "stdout",
     "output_type": "stream",
     "text": [
      "The first non-repeating character in 'abcaedbd' is 'c'\n"
     ]
    }
   ],
   "source": [
    "my_string = \"abcaedbd\"\n",
    "result = find_first_non_repeating_char(my_string)\n",
    "if result is not None:\n",
    "    print(f\"The first non-repeating character in '{my_string}' is '{result}'\")\n",
    "else:\n",
    "    print(f\"There are no non-repeating characters in '{my_string}'\")\n"
   ]
  },
  {
   "cell_type": "markdown",
   "id": "7c12d502-e6a7-4d55-960d-591ebe5f649b",
   "metadata": {},
   "source": [
    "# 23. Write a program to find the prime factors of a given number."
   ]
  },
  {
   "cell_type": "code",
   "execution_count": 3,
   "id": "a3ec69fb-a48a-4705-b62e-27ef2b76fd9f",
   "metadata": {},
   "outputs": [],
   "source": [
    "def find_prime_factors(n):\n",
    "    factors = []\n",
    "    i = 2\n",
    "\n",
    "    while i * i <= n:\n",
    "        if n % i:\n",
    "            i += 1\n",
    "        else:\n",
    "            n //= i\n",
    "            factors.append(i)\n",
    "\n",
    "    if n > 1:\n",
    "        factors.append(n)\n",
    "\n",
    "    return factors\n"
   ]
  },
  {
   "cell_type": "code",
   "execution_count": 4,
   "id": "b4548dc7-17e7-48f6-82e6-9bd10332d1dd",
   "metadata": {},
   "outputs": [
    {
     "name": "stdout",
     "output_type": "stream",
     "text": [
      "[2, 2, 3, 7]\n"
     ]
    }
   ],
   "source": [
    "number = 84\n",
    "result = find_prime_factors(number)\n",
    "print(result)\n"
   ]
  },
  {
   "cell_type": "markdown",
   "id": "861bd32b-c043-4a86-bebd-387b57e71bcd",
   "metadata": {},
   "source": [
    "# 24. Implement a function to check if a given number is a power of two."
   ]
  },
  {
   "cell_type": "code",
   "execution_count": 5,
   "id": "e7716bfe-1a0d-41db-a86b-96fa3266aeb6",
   "metadata": {},
   "outputs": [],
   "source": [
    "def is_power_of_two(n):\n",
    "    if n <= 0:\n",
    "        return False\n",
    "\n",
    "    while n > 1:\n",
    "        if n % 2 != 0:\n",
    "            return False\n",
    "        n = n // 2\n",
    "\n",
    "    return True\n"
   ]
  },
  {
   "cell_type": "code",
   "execution_count": 6,
   "id": "45281916-8baa-41ff-bf66-b01ea29762da",
   "metadata": {},
   "outputs": [
    {
     "name": "stdout",
     "output_type": "stream",
     "text": [
      "16 is a power of two\n"
     ]
    }
   ],
   "source": [
    "number = 16\n",
    "result = is_power_of_two(number)\n",
    "if result:\n",
    "    print(f\"{number} is a power of two\")\n",
    "else:\n",
    "    print(f\"{number} is not a power of two\")\n"
   ]
  },
  {
   "cell_type": "markdown",
   "id": "d95796fc-e8fc-4b61-862e-baa7c9416e1c",
   "metadata": {},
   "source": [
    "# 25. Write a Python program to merge two sorted lists into a single sorted list."
   ]
  },
  {
   "cell_type": "code",
   "execution_count": 7,
   "id": "27d8b009-5b1e-4d33-b130-41eaa2eb6dcc",
   "metadata": {},
   "outputs": [],
   "source": [
    "def merge_sorted_lists(list1, list2):\n",
    "    merged_list = []\n",
    "    i = j = 0\n",
    "\n",
    "    while i < len(list1) and j < len(list2):\n",
    "        if list1[i] <= list2[j]:\n",
    "            merged_list.append(list1[i])\n",
    "            i += 1\n",
    "        else:\n",
    "            merged_list.append(list2[j])\n",
    "            j += 1\n",
    "\n",
    "    merged_list.extend(list1[i:])\n",
    "    merged_list.extend(list2[j:])\n",
    "    \n",
    "    return merged_list\n"
   ]
  },
  {
   "cell_type": "code",
   "execution_count": 8,
   "id": "4db0658e-3a51-425d-bf44-3daacb38384f",
   "metadata": {},
   "outputs": [
    {
     "name": "stdout",
     "output_type": "stream",
     "text": [
      "[1, 2, 3, 4, 5, 6, 7, 8]\n"
     ]
    }
   ],
   "source": [
    "my_list1 = [1, 3, 5, 7]\n",
    "my_list2 = [2, 4, 6, 8]\n",
    "result = merge_sorted_lists(my_list1, my_list2)\n",
    "print(result)\n"
   ]
  },
  {
   "cell_type": "markdown",
   "id": "b7d8a140-35b4-4b8a-a602-823431cbbf12",
   "metadata": {},
   "source": [
    "# 26. Implement a function to find the mode of a list of numbers."
   ]
  },
  {
   "cell_type": "code",
   "execution_count": 10,
   "id": "3fb892e4-4de7-4cf8-9053-de061c0ca893",
   "metadata": {},
   "outputs": [],
   "source": [
    "from collections import Counter\n",
    "\n",
    "def find_mode(numbers):\n",
    "    # Use Counter to count the frequency of each number\n",
    "    counter = Counter(numbers)\n",
    "    \n",
    "    # Find the maximum frequency\n",
    "    max_frequency = max(counter.values())\n",
    "    \n",
    "    # Find all numbers with the maximum frequency\n",
    "    mode = [number for number, frequency in counter.items() if frequency == max_frequency]\n",
    "    \n",
    "    return mode\n"
   ]
  },
  {
   "cell_type": "code",
   "execution_count": 11,
   "id": "6ec8bf55-5da0-4e49-b655-91b1c6e4c3b1",
   "metadata": {},
   "outputs": [
    {
     "name": "stdout",
     "output_type": "stream",
     "text": [
      "[4, 5]\n"
     ]
    }
   ],
   "source": [
    "my_numbers = [1, 2, 3, 3, 4, 4, 4, 5, 5, 5]\n",
    "result = find_mode(my_numbers)\n",
    "print(result)\n"
   ]
  },
  {
   "cell_type": "markdown",
   "id": "d2479541-af6e-4c74-8c06-798998f1a96b",
   "metadata": {},
   "source": [
    "# 27. Write a program to find the greatest common divisor (GCD) of two numbers.\n"
   ]
  },
  {
   "cell_type": "code",
   "execution_count": 12,
   "id": "aa472177-aa95-4755-a7cb-52980ceddc7f",
   "metadata": {},
   "outputs": [],
   "source": [
    "def find_gcd(a, b):\n",
    "    while b != 0:\n",
    "        a, b = b, a % b\n",
    "    return a\n"
   ]
  },
  {
   "cell_type": "code",
   "execution_count": 13,
   "id": "60a76cad-23ea-4c14-951c-160cb79a253c",
   "metadata": {},
   "outputs": [
    {
     "name": "stdout",
     "output_type": "stream",
     "text": [
      "12\n"
     ]
    }
   ],
   "source": [
    "number1 = 84\n",
    "number2 = 36\n",
    "result = find_gcd(number1, number2)\n",
    "print(result)\n"
   ]
  },
  {
   "cell_type": "markdown",
   "id": "b452bdcf-7f4c-4261-890d-6ad48f4d76e7",
   "metadata": {},
   "source": [
    "# 28. Implement a function to calculate the square root of a given number."
   ]
  },
  {
   "cell_type": "code",
   "execution_count": 14,
   "id": "ff488d70-0cba-4964-9819-bfc784e0e3be",
   "metadata": {},
   "outputs": [],
   "source": [
    "def square_root(n):\n",
    "    if n < 0:\n",
    "        raise ValueError(\"Square root is not defined for negative numbers\")\n",
    "    \n",
    "    if n == 0:\n",
    "        return 0\n",
    "\n",
    "    # Initial guess for the square root\n",
    "    guess = n / 2\n",
    "    \n",
    "    # Iterate until the guess is close enough\n",
    "    while True:\n",
    "        new_guess = (guess + n / guess) / 2\n",
    "        if abs(guess - new_guess) < 1e-9:\n",
    "            return new_guess\n",
    "        guess = new_guess\n"
   ]
  },
  {
   "cell_type": "code",
   "execution_count": 15,
   "id": "44aec42d-66b7-44b2-b3d3-f02d11a2231c",
   "metadata": {},
   "outputs": [
    {
     "name": "stdout",
     "output_type": "stream",
     "text": [
      "5.0\n"
     ]
    }
   ],
   "source": [
    "number = 25\n",
    "result = square_root(number)\n",
    "print(result)\n"
   ]
  },
  {
   "cell_type": "markdown",
   "id": "e47aec38-5a97-468a-9335-b24c75cdea97",
   "metadata": {},
   "source": [
    "# 29. Write a Python program to check if a given string is a valid palindrome ignoring non-alphanumeric characters."
   ]
  },
  {
   "cell_type": "code",
   "execution_count": 16,
   "id": "426b7b84-bf41-4884-b12c-1e6082038926",
   "metadata": {},
   "outputs": [],
   "source": [
    "import re\n",
    "\n",
    "def is_valid_palindrome(string):\n",
    "    # Remove non-alphanumeric characters\n",
    "    alphanumeric_string = re.sub(r'[^a-zA-Z0-9]', '', string)\n",
    "    \n",
    "    # Convert to lowercase\n",
    "    alphanumeric_string = alphanumeric_string.lower()\n",
    "    \n",
    "    # Check if the alphanumeric string is a palindrome\n",
    "    return alphanumeric_string == alphanumeric_string[::-1]\n"
   ]
  },
  {
   "cell_type": "code",
   "execution_count": 17,
   "id": "52d335ec-c0b5-4ebd-93a4-082186181878",
   "metadata": {},
   "outputs": [
    {
     "name": "stdout",
     "output_type": "stream",
     "text": [
      "'A man, a plan, a canal: Panama' is a valid palindrome\n"
     ]
    }
   ],
   "source": [
    "my_string = \"A man, a plan, a canal: Panama\"\n",
    "result = is_valid_palindrome(my_string)\n",
    "if result:\n",
    "    print(f\"'{my_string}' is a valid palindrome\")\n",
    "else:\n",
    "    print(f\"'{my_string}' is not a valid palindrome\")\n"
   ]
  },
  {
   "cell_type": "markdown",
   "id": "89d25730-3839-48fc-8c3f-08f81d31c173",
   "metadata": {},
   "source": [
    "# 30. Implement a function to find the minimum element in a rotated sorted list."
   ]
  },
  {
   "cell_type": "code",
   "execution_count": 18,
   "id": "527a7e26-14dc-48d5-b16b-9a8dd4461279",
   "metadata": {},
   "outputs": [],
   "source": [
    "def find_min_in_rotated_list(nums):\n",
    "    left = 0\n",
    "    right = len(nums) - 1\n",
    "\n",
    "    while left < right:\n",
    "        mid = left + (right - left) // 2\n",
    "\n",
    "        if nums[mid] > nums[right]:\n",
    "            left = mid + 1\n",
    "        else:\n",
    "            right = mid\n",
    "\n",
    "    return nums[left]\n"
   ]
  },
  {
   "cell_type": "code",
   "execution_count": 19,
   "id": "e5691ec4-469a-4fd9-816b-a461f9a3c337",
   "metadata": {},
   "outputs": [
    {
     "name": "stdout",
     "output_type": "stream",
     "text": [
      "0\n"
     ]
    }
   ],
   "source": [
    "my_list = [4, 5, 6, 7, 0, 1, 2]\n",
    "result = find_min_in_rotated_list(my_list)\n",
    "print(result)\n"
   ]
  },
  {
   "cell_type": "markdown",
   "id": "a0c6ecf0-80ab-4d00-815f-c63cbc0e6a05",
   "metadata": {},
   "source": [
    "# 31. Write a program to find the sum of all even numbers in a list."
   ]
  },
  {
   "cell_type": "code",
   "execution_count": 20,
   "id": "08be163a-ec0e-4b91-8b4b-37ab4716ec79",
   "metadata": {},
   "outputs": [],
   "source": [
    "def sum_of_even_numbers(numbers):\n",
    "    sum_even = 0\n",
    "\n",
    "    for number in numbers:\n",
    "        if number % 2 == 0:\n",
    "            sum_even += number\n",
    "\n",
    "    return sum_even\n"
   ]
  },
  {
   "cell_type": "code",
   "execution_count": 21,
   "id": "5e48b70f-0ca2-4abc-bb2d-976402ca8392",
   "metadata": {},
   "outputs": [
    {
     "name": "stdout",
     "output_type": "stream",
     "text": [
      "30\n"
     ]
    }
   ],
   "source": [
    "my_numbers = [1, 2, 3, 4, 5, 6, 7, 8, 9, 10]\n",
    "result = sum_of_even_numbers(my_numbers)\n",
    "print(result)\n"
   ]
  },
  {
   "cell_type": "markdown",
   "id": "151af91b-b8a2-4b53-81cc-c8bf4b2f60b4",
   "metadata": {},
   "source": [
    "# 32. Implement a function to calculate the power of a number using recursion."
   ]
  },
  {
   "cell_type": "code",
   "execution_count": 22,
   "id": "86e029e1-2093-4aca-a82d-69e3794212bd",
   "metadata": {},
   "outputs": [],
   "source": [
    "def power(base, exponent):\n",
    "    if exponent == 0:\n",
    "        return 1\n",
    "    elif exponent < 0:\n",
    "        return 1 / power(base, -exponent)\n",
    "    else:\n",
    "        return base * power(base, exponent - 1)\n"
   ]
  },
  {
   "cell_type": "code",
   "execution_count": 23,
   "id": "ccefde40-f72b-4f47-9e22-9772c8c23169",
   "metadata": {},
   "outputs": [
    {
     "name": "stdout",
     "output_type": "stream",
     "text": [
      "16\n"
     ]
    }
   ],
   "source": [
    "base = 2\n",
    "exponent = 4\n",
    "result = power(base, exponent)\n",
    "print(result)\n"
   ]
  },
  {
   "cell_type": "markdown",
   "id": "11e7ae9f-e08c-407f-b702-b731760a6fd3",
   "metadata": {},
   "source": [
    "# 33. Write a Python program to remove duplicates from a list while preserving the order."
   ]
  },
  {
   "cell_type": "code",
   "execution_count": 24,
   "id": "6db21801-eb0d-49d0-b44d-801c8748d642",
   "metadata": {},
   "outputs": [],
   "source": [
    "def remove_duplicates_preserve_order(lst):\n",
    "    seen = set()\n",
    "    result = []\n",
    "\n",
    "    for item in lst:\n",
    "        if item not in seen:\n",
    "            seen.add(item)\n",
    "            result.append(item)\n",
    "\n",
    "    return result\n"
   ]
  },
  {
   "cell_type": "code",
   "execution_count": 25,
   "id": "b74867b2-c38f-43af-bf9d-71df5f466dfd",
   "metadata": {},
   "outputs": [
    {
     "name": "stdout",
     "output_type": "stream",
     "text": [
      "[3, 1, 2, 5, 4]\n"
     ]
    }
   ],
   "source": [
    "my_list = [3, 1, 2, 2, 1, 5, 3, 4, 4, 5]\n",
    "result = remove_duplicates_preserve_order(my_list)\n",
    "print(result)\n"
   ]
  },
  {
   "cell_type": "markdown",
   "id": "9cf0a5ec-714a-4d22-a3c9-21c72ee9011c",
   "metadata": {},
   "source": [
    "# 34. Implement a function to find the longest common prefix among a list of strings."
   ]
  },
  {
   "cell_type": "code",
   "execution_count": 26,
   "id": "7bca1c86-0f32-4468-b712-34774189b838",
   "metadata": {},
   "outputs": [],
   "source": [
    "def remove_duplicates_preserve_order(lst):\n",
    "    seen = set()\n",
    "    result = []\n",
    "\n",
    "    for item in lst:\n",
    "        if item not in seen:\n",
    "            seen.add(item)\n",
    "            result.append(item)\n",
    "\n",
    "    return result\n"
   ]
  },
  {
   "cell_type": "code",
   "execution_count": 27,
   "id": "a9edccf0-8df6-4876-80ea-9f5741454b28",
   "metadata": {},
   "outputs": [
    {
     "name": "stdout",
     "output_type": "stream",
     "text": [
      "[3, 1, 2, 5, 4]\n"
     ]
    }
   ],
   "source": [
    "my_list = [3, 1, 2, 2, 1, 5, 3, 4, 4, 5]\n",
    "result = remove_duplicates_preserve_order(my_list)\n",
    "print(result)\n"
   ]
  },
  {
   "cell_type": "markdown",
   "id": "1a71a3af-7f35-4aea-b732-e5d225dc7473",
   "metadata": {},
   "source": [
    "# 35. Write a program to check if a given number is a perfect square."
   ]
  },
  {
   "cell_type": "code",
   "execution_count": 28,
   "id": "ea39bcd5-717b-4b8b-95cd-295b9cbfe0fb",
   "metadata": {},
   "outputs": [],
   "source": [
    "def is_perfect_square(num):\n",
    "    if num < 0:\n",
    "        return False\n",
    "    \n",
    "    if num == 0 or num == 1:\n",
    "        return True\n",
    "    \n",
    "    left, right = 1, num // 2\n",
    "    \n",
    "    while left <= right:\n",
    "        mid = (left + right) // 2\n",
    "        square = mid * mid\n",
    "        \n",
    "        if square == num:\n",
    "            return True\n",
    "        elif square < num:\n",
    "            left = mid + 1\n",
    "        else:\n",
    "            right = mid - 1\n",
    "    \n",
    "    return False\n"
   ]
  },
  {
   "cell_type": "code",
   "execution_count": 29,
   "id": "2e30b8de-0698-459a-8b42-f9ee42fb24fe",
   "metadata": {},
   "outputs": [
    {
     "name": "stdout",
     "output_type": "stream",
     "text": [
      "16 is a perfect square\n"
     ]
    }
   ],
   "source": [
    "number = 16\n",
    "result = is_perfect_square(number)\n",
    "if result:\n",
    "    print(f\"{number} is a perfect square\")\n",
    "else:\n",
    "    print(f\"{number} is not a perfect square\")\n"
   ]
  },
  {
   "cell_type": "markdown",
   "id": "8af9c804-5a7e-41e1-af28-90c837445cd8",
   "metadata": {},
   "source": [
    "# 36. Implement a function to calculate the product of all elements in a list."
   ]
  },
  {
   "cell_type": "code",
   "execution_count": 30,
   "id": "a1c00246-767e-402e-b41f-42f0c6152ba1",
   "metadata": {},
   "outputs": [],
   "source": [
    "def calculate_product(numbers):\n",
    "    product = 1\n",
    "\n",
    "    for number in numbers:\n",
    "        product *= number\n",
    "\n",
    "    return product\n"
   ]
  },
  {
   "cell_type": "code",
   "execution_count": 31,
   "id": "a0070f10-5f2d-43e3-8979-d0639d306e0f",
   "metadata": {},
   "outputs": [
    {
     "name": "stdout",
     "output_type": "stream",
     "text": [
      "120\n"
     ]
    }
   ],
   "source": [
    "my_numbers = [1, 2, 3, 4, 5]\n",
    "result = calculate_product(my_numbers)\n",
    "print(result)\n"
   ]
  },
  {
   "cell_type": "markdown",
   "id": "2a67ae33-85bb-47a9-b226-d565d0ecebb8",
   "metadata": {},
   "source": [
    "# 37. Write a Python program to reverse the order of words in a sentence while preserving the word order."
   ]
  },
  {
   "cell_type": "code",
   "execution_count": 32,
   "id": "0530a3e9-16c8-4e13-befc-2b03e7f17740",
   "metadata": {},
   "outputs": [],
   "source": [
    "def reverse_words(sentence):\n",
    "    words = sentence.split()\n",
    "    reversed_words = words[::-1]\n",
    "    reversed_sentence = ' '.join(reversed_words)\n",
    "    return reversed_sentence\n"
   ]
  },
  {
   "cell_type": "code",
   "execution_count": 33,
   "id": "5694a084-1710-46d3-9f90-f9bd5a405f36",
   "metadata": {},
   "outputs": [
    {
     "name": "stdout",
     "output_type": "stream",
     "text": [
      "awesome. is OpenAI world! Hello,\n"
     ]
    }
   ],
   "source": [
    "my_sentence = \"Hello, world! OpenAI is awesome.\"\n",
    "result = reverse_words(my_sentence)\n",
    "print(result)\n"
   ]
  },
  {
   "cell_type": "markdown",
   "id": "bc98329b-1e77-4ce6-b919-50bf6721a97f",
   "metadata": {},
   "source": [
    "# 38. Implement a function to find the missing number in a given list of consecutive numbers."
   ]
  },
  {
   "cell_type": "code",
   "execution_count": 34,
   "id": "2ee2725c-36ef-4c28-a810-0675cb52bf92",
   "metadata": {},
   "outputs": [],
   "source": [
    "def find_missing_number(numbers):\n",
    "    n = len(numbers) + 1\n",
    "    total_sum = (n * (n + 1)) // 2\n",
    "    actual_sum = sum(numbers)\n",
    "    missing_number = total_sum - actual_sum\n",
    "    return missing_number\n"
   ]
  },
  {
   "cell_type": "code",
   "execution_count": 35,
   "id": "33c22c4a-f653-4abd-9972-31457ebc748b",
   "metadata": {},
   "outputs": [
    {
     "name": "stdout",
     "output_type": "stream",
     "text": [
      "4\n"
     ]
    }
   ],
   "source": [
    "my_numbers = [1, 2, 3, 5, 6, 7, 8, 9]\n",
    "result = find_missing_number(my_numbers)\n",
    "print(result)\n"
   ]
  },
  {
   "cell_type": "markdown",
   "id": "2b1eb752-7843-46a5-a90c-ba2f932453c5",
   "metadata": {},
   "source": [
    "# 39. Write a program to find the sum of digits of a given number."
   ]
  },
  {
   "cell_type": "code",
   "execution_count": 36,
   "id": "8b2e5681-d9fc-42bd-8d3f-87779f27c96c",
   "metadata": {},
   "outputs": [],
   "source": [
    "def sum_of_digits(number):\n",
    "    # Convert the number to a string\n",
    "    number_str = str(number)\n",
    "\n",
    "    # Initialize the sum\n",
    "    digit_sum = 0\n",
    "\n",
    "    # Iterate over each digit\n",
    "    for digit in number_str:\n",
    "        # Convert the digit back to an integer and add it to the sum\n",
    "        digit_sum += int(digit)\n",
    "\n",
    "    return digit_sum\n"
   ]
  },
  {
   "cell_type": "code",
   "execution_count": 37,
   "id": "02283fbb-db74-409d-a3e9-879209d85009",
   "metadata": {},
   "outputs": [
    {
     "name": "stdout",
     "output_type": "stream",
     "text": [
      "15\n"
     ]
    }
   ],
   "source": [
    "number = 12345\n",
    "result = sum_of_digits(number)\n",
    "print(result)\n"
   ]
  },
  {
   "cell_type": "markdown",
   "id": "86e0bed6-83ed-43fa-bab7-e3715ac36f60",
   "metadata": {},
   "source": [
    "# 40. Implement a function to check if a given string is a valid palindrome considering case sensitivity."
   ]
  },
  {
   "cell_type": "code",
   "execution_count": 38,
   "id": "921bc80b-6079-41d7-8f1d-a411634b7c0a",
   "metadata": {},
   "outputs": [],
   "source": [
    "def is_valid_palindrome(string):\n",
    "    # Remove non-alphanumeric characters\n",
    "    alphanumeric_string = ''.join(e for e in string if e.isalnum())\n",
    "\n",
    "    # Convert to lowercase\n",
    "    lowercase_string = alphanumeric_string.lower()\n",
    "\n",
    "    # Check if the lowercase string is a palindrome\n",
    "    return lowercase_string == lowercase_string[::-1]\n"
   ]
  },
  {
   "cell_type": "code",
   "execution_count": 39,
   "id": "dd28db1b-d38b-4d5d-99d1-67584345dcb5",
   "metadata": {},
   "outputs": [
    {
     "name": "stdout",
     "output_type": "stream",
     "text": [
      "'A man, a plan, a canal: Panama' is a valid palindrome\n"
     ]
    }
   ],
   "source": [
    "my_string = \"A man, a plan, a canal: Panama\"\n",
    "result = is_valid_palindrome(my_string)\n",
    "if result:\n",
    "    print(f\"'{my_string}' is a valid palindrome\")\n",
    "else:\n",
    "    print(f\"'{my_string}' is not a valid palindrome\")\n"
   ]
  },
  {
   "cell_type": "markdown",
   "id": "98746041-c0f6-4622-9d11-a069c7dff43f",
   "metadata": {},
   "source": [
    "# 41. Write a Python program to find the smallest missing positive integer in a list."
   ]
  },
  {
   "cell_type": "code",
   "execution_count": 40,
   "id": "be05b0b1-224d-4251-b8ea-55d98695c67c",
   "metadata": {},
   "outputs": [],
   "source": [
    "def find_smallest_missing_positive(nums):\n",
    "    n = len(nums)\n",
    "\n",
    "    # Step 1: Move all non-positive numbers to the beginning\n",
    "    i = 0\n",
    "    j = 0\n",
    "    while j < n:\n",
    "        if nums[j] <= 0:\n",
    "            nums[i], nums[j] = nums[j], nums[i]\n",
    "            i += 1\n",
    "        j += 1\n",
    "\n",
    "    # Step 2: Consider only positive numbers from index i onwards\n",
    "    nums = nums[i:]\n",
    "\n",
    "    # Step 3: Mark the presence of positive numbers\n",
    "    for num in nums:\n",
    "        abs_num = abs(num)\n",
    "        if abs_num <= len(nums):\n",
    "            nums[abs_num - 1] = -abs(nums[abs_num - 1])\n",
    "\n",
    "    # Step 4: Find the smallest missing positive integer\n",
    "    for i in range(len(nums)):\n",
    "        if nums[i] > 0:\n",
    "            return i + 1\n",
    "\n",
    "    # If all positive integers are present, return the next positive integer\n",
    "    return len(nums) + 1\n"
   ]
  },
  {
   "cell_type": "code",
   "execution_count": 41,
   "id": "a67a264c-a5b3-4d41-b795-15c92a10cf3d",
   "metadata": {},
   "outputs": [
    {
     "name": "stdout",
     "output_type": "stream",
     "text": [
      "4\n"
     ]
    }
   ],
   "source": [
    "my_list = [3, 1, -1, 5, 2]\n",
    "result = find_smallest_missing_positive(my_list)\n",
    "print(result)\n"
   ]
  },
  {
   "cell_type": "markdown",
   "id": "d49ffd9f-3a40-4cc9-9a35-b54d7f9569b6",
   "metadata": {},
   "source": [
    "# 42. Implement a function to find the longest palindrome substring in a given string."
   ]
  },
  {
   "cell_type": "code",
   "execution_count": 42,
   "id": "87741b92-189e-40c7-8587-627b309c4612",
   "metadata": {},
   "outputs": [],
   "source": [
    "def longest_palindrome_substring(string):\n",
    "    n = len(string)\n",
    "    max_length = 0\n",
    "    start_index = 0\n",
    "\n",
    "    # Helper function to expand around the center\n",
    "    def expand_around_center(left, right):\n",
    "        while left >= 0 and right < n and string[left] == string[right]:\n",
    "            left -= 1\n",
    "            right += 1\n",
    "        return right - left - 1\n",
    "\n",
    "    for i in range(n):\n",
    "        # Check for odd-length palindromes\n",
    "        length_odd = expand_around_center(i, i)\n",
    "        if length_odd > max_length:\n",
    "            max_length = length_odd\n",
    "            start_index = i - length_odd // 2\n",
    "\n",
    "        # Check for even-length palindromes\n",
    "        length_even = expand_around_center(i, i + 1)\n",
    "        if length_even > max_length:\n",
    "            max_length = length_even\n",
    "            start_index = i - length_even // 2 + 1\n",
    "\n",
    "    return string[start_index : start_index + max_length]\n"
   ]
  },
  {
   "cell_type": "code",
   "execution_count": 43,
   "id": "e730480c-4f71-42d7-a2d9-d3ce4547654e",
   "metadata": {},
   "outputs": [
    {
     "name": "stdout",
     "output_type": "stream",
     "text": [
      "bab\n"
     ]
    }
   ],
   "source": [
    "my_string = \"babad\"\n",
    "result = longest_palindrome_substring(my_string)\n",
    "print(result)\n"
   ]
  },
  {
   "cell_type": "markdown",
   "id": "60707fd9-c0e0-4c0c-97c5-5ae30f6d6687",
   "metadata": {},
   "source": [
    "# 43. Write a program to find the number of occurrences of a given element in a list."
   ]
  },
  {
   "cell_type": "code",
   "execution_count": 44,
   "id": "8f9f40c5-270d-4a1f-bc77-1e7a86cf0234",
   "metadata": {},
   "outputs": [],
   "source": [
    "def count_occurrences(lst, element):\n",
    "    count = 0\n",
    "\n",
    "    for item in lst:\n",
    "        if item == element:\n",
    "            count += 1\n",
    "\n",
    "    return count\n"
   ]
  },
  {
   "cell_type": "code",
   "execution_count": 45,
   "id": "6fe3ffbf-d0b5-4b38-8bac-905fcfdd3d04",
   "metadata": {},
   "outputs": [
    {
     "name": "stdout",
     "output_type": "stream",
     "text": [
      "3\n"
     ]
    }
   ],
   "source": [
    "my_list = [1, 2, 3, 2, 4, 2, 5]\n",
    "target_element = 2\n",
    "result = count_occurrences(my_list, target_element)\n",
    "print(result)\n"
   ]
  },
  {
   "cell_type": "markdown",
   "id": "d82ddf4a-c1d2-4459-aafc-e07895f7f925",
   "metadata": {},
   "source": [
    "# 44. Implement a function to check if a given number is a perfect number."
   ]
  },
  {
   "cell_type": "code",
   "execution_count": 46,
   "id": "9f1c49d6-b03d-4380-ba23-5f958517dfe1",
   "metadata": {},
   "outputs": [],
   "source": [
    "def is_perfect_number(number):\n",
    "    if number <= 0:\n",
    "        return False\n",
    "\n",
    "    divisor_sum = 0\n",
    "\n",
    "    for i in range(1, number):\n",
    "        if number % i == 0:\n",
    "            divisor_sum += i\n",
    "\n",
    "    return divisor_sum == number\n"
   ]
  },
  {
   "cell_type": "code",
   "execution_count": 47,
   "id": "a73fa42d-a46b-4e87-9812-58c1c37ffe8f",
   "metadata": {},
   "outputs": [
    {
     "name": "stdout",
     "output_type": "stream",
     "text": [
      "28 is a perfect number\n"
     ]
    }
   ],
   "source": [
    "my_number = 28\n",
    "result = is_perfect_number(my_number)\n",
    "if result:\n",
    "    print(f\"{my_number} is a perfect number\")\n",
    "else:\n",
    "    print(f\"{my_number} is not a perfect number\")\n"
   ]
  },
  {
   "cell_type": "markdown",
   "id": "b549e27c-3a66-436b-aff5-6dd2a1117240",
   "metadata": {},
   "source": [
    "# 45. Write a Python program to remove all duplicates from a string."
   ]
  },
  {
   "cell_type": "code",
   "execution_count": 48,
   "id": "4ea7b2de-cad4-4133-80bf-ce8e535847b3",
   "metadata": {},
   "outputs": [],
   "source": [
    "def remove_duplicates(string):\n",
    "    unique_chars = []\n",
    "    result = \"\"\n",
    "\n",
    "    for char in string:\n",
    "        if char not in unique_chars:\n",
    "            unique_chars.append(char)\n",
    "            result += char\n",
    "\n",
    "    return result\n"
   ]
  },
  {
   "cell_type": "code",
   "execution_count": 49,
   "id": "ce9c7308-9b01-4b91-b282-b5f34993c507",
   "metadata": {},
   "outputs": [
    {
     "name": "stdout",
     "output_type": "stream",
     "text": [
      "Helo, Wrd!\n"
     ]
    }
   ],
   "source": [
    "my_string = \"Hello, World!\"\n",
    "result = remove_duplicates(my_string)\n",
    "print(result)\n"
   ]
  },
  {
   "cell_type": "markdown",
   "id": "81282c20-f52f-46f2-89f9-e91f16f862bd",
   "metadata": {},
   "source": [
    "# 46. Implement a function to find the first missing positive"
   ]
  },
  {
   "cell_type": "code",
   "execution_count": 50,
   "id": "e42a613c-fe5a-497a-808b-3a86e1c378e1",
   "metadata": {},
   "outputs": [],
   "source": [
    "def find_first_missing_positive(nums):\n",
    "    n = len(nums)\n",
    "\n",
    "    # Step 1: Move all non-positive numbers to the beginning\n",
    "    i = 0\n",
    "    j = 0\n",
    "    while j < n:\n",
    "        if nums[j] <= 0:\n",
    "            nums[i], nums[j] = nums[j], nums[i]\n",
    "            i += 1\n",
    "        j += 1\n",
    "\n",
    "    # Step 2: Consider only positive numbers from index i onwards\n",
    "    nums = nums[i:]\n",
    "\n",
    "    # Step 3: Mark the presence of positive numbers\n",
    "    for num in nums:\n",
    "        abs_num = abs(num)\n",
    "        if abs_num <= len(nums):\n",
    "            nums[abs_num - 1] = -abs(nums[abs_num - 1])\n",
    "\n",
    "    # Step 4: Find the first missing positive integer\n",
    "    for i in range(len(nums)):\n",
    "        if nums[i] > 0:\n",
    "            return i + 1\n",
    "\n",
    "    # If all positive integers are present, return the next positive integer\n",
    "    return len(nums) + 1\n"
   ]
  },
  {
   "cell_type": "code",
   "execution_count": 51,
   "id": "84d44fa2-589e-40ef-a4c5-1833ad169cde",
   "metadata": {},
   "outputs": [
    {
     "name": "stdout",
     "output_type": "stream",
     "text": [
      "4\n"
     ]
    }
   ],
   "source": [
    "my_list = [3, 1, -1, 5, 2]\n",
    "result = find_first_missing_positive(my_list)\n",
    "print(result)\n"
   ]
  },
  {
   "cell_type": "code",
   "execution_count": null,
   "id": "633d6941-6332-4e48-a2ec-0a4e0bdd6c1c",
   "metadata": {},
   "outputs": [],
   "source": []
  }
 ],
 "metadata": {
  "kernelspec": {
   "display_name": "Python 3 (ipykernel)",
   "language": "python",
   "name": "python3"
  },
  "language_info": {
   "codemirror_mode": {
    "name": "ipython",
    "version": 3
   },
   "file_extension": ".py",
   "mimetype": "text/x-python",
   "name": "python",
   "nbconvert_exporter": "python",
   "pygments_lexer": "ipython3",
   "version": "3.10.8"
  }
 },
 "nbformat": 4,
 "nbformat_minor": 5
}
